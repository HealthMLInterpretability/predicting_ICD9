{
 "cells": [
  {
   "cell_type": "code",
   "execution_count": 3,
   "metadata": {},
   "outputs": [],
   "source": [
    "import pandas as pd\n",
    "from datetime import datetime\n",
    "from matplotlib import pyplot as plt\n",
    "%matplotlib inline"
   ]
  },
  {
   "cell_type": "markdown",
   "metadata": {},
   "source": [
    "### Merging PATIENTS table with NOTEEVENTS"
   ]
  },
  {
   "cell_type": "code",
   "execution_count": 4,
   "metadata": {},
   "outputs": [
    {
     "name": "stderr",
     "output_type": "stream",
     "text": [
      "C:\\Users\\seanx\\anaconda3\\lib\\site-packages\\IPython\\core\\interactiveshell.py:3331: DtypeWarning: Columns (4,5) have mixed types.Specify dtype option on import or set low_memory=False.\n",
      "  exec(code_obj, self.user_global_ns, self.user_ns)\n"
     ]
    }
   ],
   "source": [
    "NOTEEVENTS = pd.read_csv('NOTEEVENTS_WITH_AGE.csv')\n",
    "PATIENTS = pd.read_csv('PATIENTS.csv')"
   ]
  },
  {
   "cell_type": "code",
   "execution_count": 5,
   "metadata": {},
   "outputs": [
    {
     "name": "stdout",
     "output_type": "stream",
     "text": [
      "Number of unique subjects in PATIENTS:  46520\n",
      "Number of rows in PATIENTS:  46520\n",
      "Number of unique subjects in NOTEEVENTS_WITH_AGE:  46146\n"
     ]
    }
   ],
   "source": [
    "print(\"Number of unique subjects in PATIENTS: \", len(set(PATIENTS['SUBJECT_ID'])))\n",
    "print(\"Number of rows in PATIENTS: \", len(PATIENTS))\n",
    "print(\"Number of unique subjects in NOTEEVENTS_WITH_AGE: \", len(set(NOTEEVENTS['SUBJECT_ID'])))"
   ]
  },
  {
   "cell_type": "code",
   "execution_count": 19,
   "metadata": {},
   "outputs": [],
   "source": [
    "#Joined df on Subject ID\n",
    "df = NOTEEVENTS.merge(PATIENTS, how = 'left', on = 'SUBJECT_ID')\n",
    "\n",
    "#Take only the subset columns to look at age\n",
    "df['CHARTDATE'] = pd.to_datetime(df['CHARTDATE'], format='%Y-%m-%d' ).dt.date\n",
    "df['DOB'] = pd.to_datetime(df['DOB'], format='%Y-%m-%d').dt.date\n",
    "df['AGE_recalculated'] = df['CHARTDATE'] - df['DOB']\n",
    "df['AGE_recalculated'] = [int(age.days//365.2425) for age in df['AGE_recalculated']]"
   ]
  },
  {
   "cell_type": "code",
   "execution_count": null,
   "metadata": {},
   "outputs": [],
   "source": [
    "### Compari"
   ]
  },
  {
   "cell_type": "code",
   "execution_count": 22,
   "metadata": {},
   "outputs": [
    {
     "data": {
      "image/png": "[encoded data removed]",
      "text/plain": [
       "<Figure size 432x288 with 2 Axes>"
      ]
     },
     "metadata": {
      "needs_background": "light"
     },
     "output_type": "display_data"
    }
   ],
   "source": [
    "#Visualize difference between previously extracted age and recalculated age\n",
    "f, (ax1, ax2) = plt.subplots(1, 2, sharey=False)\n",
    "ax1.set_title('Original Age')\n",
    "ax1.boxplot(df['AGE'])\n",
    "\n",
    "ax2.set_title('Age recalculated')\n",
    "ax2.boxplot(df['AGE_recalculated'])\n",
    "\n",
    "plt.show()\n",
    "\n",
    "#According to MIMIC III: Patients > 89 years had DOB set to 300 years before first admission date. \n",
    "#Our boxplot corroborates this. We simply have to replace these with age = 90"
   ]
  },
  {
   "cell_type": "code",
   "execution_count": 7,
   "metadata": {},
   "outputs": [],
   "source": [
    "#Replace values over 89 with 90\n",
    "df['AGE_recalculated'] = df['AGE_recalculated'].apply(lambda x: x if x <= 89 else 90)"
   ]
  },
  {
   "cell_type": "code",
   "execution_count": 8,
   "metadata": {},
   "outputs": [
    {
     "data": {
      "image/png": "[encoded data removed]",
      "text/plain": [
       "<Figure size 720x360 with 3 Axes>"
      ]
     },
     "metadata": {
      "needs_background": "light"
     },
     "output_type": "display_data"
    }
   ],
   "source": [
    "#Visualize difference between previously extracted age and recalculated age\n",
    "f, (ax1, ax2, ax3) = plt.subplots(1, 3, sharey=False)\n",
    "ax1.set_title('Original Age')\n",
    "ax1.boxplot(df['AGE'])\n",
    "\n",
    "ax2.set_title('Age recalculated')\n",
    "ax2.boxplot(df['AGE_recalculated'])\n",
    "\n",
    "ax3.set_title('Difference distribution')\n",
    "ax3.boxplot(df['AGE_recalculated']-df['AGE'])\n",
    "f.set_figwidth(10)\n",
    "f.set_figheight(5)\n",
    "plt.show()"
   ]
  },
  {
   "cell_type": "code",
   "execution_count": 55,
   "metadata": {},
   "outputs": [
    {
     "name": "stdout",
     "output_type": "stream",
     "text": [
      "Original age: Number of AGE==0: 1288026, %total: 61.83%\n",
      "Recalculated age: Number of AGE==0: 425400, %total: 20.42%\n"
     ]
    }
   ],
   "source": [
    "print('Original age: Number of AGE==0: {0}, %total: {1}%'.format(sum(df['AGE']==0), round(sum(df['AGE']==0)/len(NOTEEVENTS)*100, 2)))\n",
    "print('Recalculated age: Number of AGE==0: {0}, %total: {1}%'.format(sum(df['AGE_recalculated']==0), round(sum(df['AGE_recalculated']==0)/len(NOTEEVENTS)*100, 2)))"
   ]
  },
  {
   "cell_type": "markdown",
   "metadata": {},
   "source": [
    "### Function to merge, calculate, and clean age"
   ]
  },
  {
   "cell_type": "code",
   "execution_count": 23,
   "metadata": {},
   "outputs": [],
   "source": [
    "def merge_calculate_age(df1: pd.DataFrame, df_patients: pd.DataFrame, admission_column_name:str = 'CHARTDATE') -> pd.Series:\n",
    "    '''Takes a MIMIC III dataset with SUBJECT_ID and merges it with PATIENTS table based on SUBJECT ID and calculates AGE'''\n",
    "    #Merge on SUBJECT_ID\n",
    "    df = df1.merge(df_patients, how = 'left', on = 'SUBJECT_ID')\n",
    "    #Convert to datetime\n",
    "    df[admission_column_name] = pd.to_datetime(df[admission_column_name], format='%Y-%m-%d').dt.date\n",
    "    df['DOB'] = pd.to_datetime(df['DOB'], format='%Y-%m-%d').dt.date\n",
    "    #Subtract dates\n",
    "    df['AGE_recalculated'] = df[admission_column_name] - df['DOB']\n",
    "    #Calculate year. Note that year is calculated by dividing #days by 365.2425\n",
    "    df['AGE_recalculated'] = [int(age.days//365.2425) for age in df['AGE_recalculated']]\n",
    "    #Clean age. Since data is deidentified, any age>89 was set to ~300. Replace all these ages with 90\n",
    "    df['AGE_recalculated'] = df['AGE_recalculated'].apply(lambda x: x if x <= 89 else 90)\n",
    "\n",
    "    return df['AGE_recalculated']"
   ]
  }
 ],
 "metadata": {
  "kernelspec": {
   "display_name": "Python 3",
   "language": "python",
   "name": "python3"
  },
  "language_info": {
   "codemirror_mode": {
    "name": "ipython",
    "version": 3
   },
   "file_extension": ".py",
   "mimetype": "text/x-python",
   "name": "python",
   "nbconvert_exporter": "python",
   "pygments_lexer": "ipython3",
   "version": "3.7.6"
  }
 },
 "nbformat": 4,
 "nbformat_minor": 4
}
