{
 "cells": [
  {
   "cell_type": "code",
   "execution_count": 10,
   "metadata": {
    "ExecuteTime": {
     "end_time": "2021-10-09T00:24:23.926458Z",
     "start_time": "2021-10-09T00:24:23.917455Z"
    }
   },
   "outputs": [],
   "source": [
    "import pandas as pd\n",
    "from sklearn import metrics\n",
    "from sklearn.cluster import KMeans\n",
    "from sklearn.model_selection import train_test_split\n",
    "from sklearn import metrics"
   ]
  },
  {
   "cell_type": "code",
   "execution_count": 2,
   "metadata": {
    "ExecuteTime": {
     "end_time": "2021-10-09T00:19:13.743395Z",
     "start_time": "2021-10-09T00:19:13.602889Z"
    }
   },
   "outputs": [],
   "source": [
    "#mortality_20_topics = pd.read_csv('topic_model_dia_20_topics.csv')\n",
    "mortality_50_topics = pd.read_csv('topic_model_dia_50_topics.csv')"
   ]
  },
  {
   "cell_type": "code",
   "execution_count": 28,
   "metadata": {
    "ExecuteTime": {
     "end_time": "2021-10-09T00:30:13.371000Z",
     "start_time": "2021-10-09T00:30:13.341997Z"
    }
   },
   "outputs": [],
   "source": [
    "X = mortality_50_topics.drop(columns=['top_icd'])\n",
    "y = mortality_50_topics['top_icd']\n",
    "X_train, X_test, y_train, y_test = train_test_split(X, y, test_size=0.3, random_state=42)\n",
    "y_train = y_train.astype('str')\n",
    "y_test = y_test.astype('str')"
   ]
  },
  {
   "cell_type": "code",
   "execution_count": 29,
   "metadata": {
    "ExecuteTime": {
     "end_time": "2021-10-09T00:30:14.414891Z",
     "start_time": "2021-10-09T00:30:14.071296Z"
    }
   },
   "outputs": [],
   "source": [
    "kmeans = KMeans(n_clusters = 4).fit(X_train)\n",
    "kmeans_pred = kmeans.predict(X_test)"
   ]
  },
  {
   "cell_type": "code",
   "execution_count": 30,
   "metadata": {
    "ExecuteTime": {
     "end_time": "2021-10-09T00:30:15.061735Z",
     "start_time": "2021-10-09T00:30:14.842323Z"
    }
   },
   "outputs": [],
   "source": [
    "ICD9_CODE_map = {\n",
    "    '414':  0, #chronic heart\n",
    "    '38':  1, #sepsis\n",
    "    '410': 2, #heart attack\n",
    "    '424': 3, #diseases of endocardium\n",
    "}\n",
    "\n",
    "#d[\"ICD9_CODE\"] = d[\"ICD9_CODE\"].map(ICD9_CODE_map)\n",
    "y_train_km = y_train.map(ICD9_CODE_map)\n",
    "y_test_km = y_test.map(ICD9_CODE_map)\n",
    "#X = d.values\n",
    "#X = X[:,1:9]\n",
    "kmeans = KMeans(n_clusters=4, random_state=0).fit(X_test)\n",
    "\n",
    "pred = kmeans.labels_\n",
    "true = y_test_km\n",
    "#true = d[\"ICD9_CODE\"].values\n",
    "#pd.DataFrame(kmeans.labels_).to_csv(\"kmeanlabels.csv\")\n",
    "\n",
    "#4 classes\n",
    "#pred - kmeans.labels_ - 0/1/2/3\n",
    "#true - ICD9 \n",
    "\n",
    "acc=0\n",
    "max = 0\n",
    "predTemp=[-1,-1,-1,-1]\n",
    "predNew=[-1]*len(pred)\n",
    "predAssign = pd.Series(pred)\n",
    "predFinal=[-1]*len(pred)\n",
    "\n",
    "from sklearn.metrics import accuracy_score\n",
    "\n",
    "for i in range(4):\n",
    "    predTemp[i]=0\n",
    "    for j in range(4):\n",
    "        if j!=i:\n",
    "            predTemp[j]=1\n",
    "        else:\n",
    "            continue\n",
    "        for k in range(4):\n",
    "            if k!=i and k!=j:\n",
    "                predTemp[k]=2\n",
    "            else:\n",
    "                continue\n",
    "            for l in range(4):\n",
    "                if l!=i and l!=k and l!=j:\n",
    "                    predTemp[l]=3\n",
    "                    pred_map = {\n",
    "                        0: predTemp[0],\n",
    "                        1: predTemp[1],\n",
    "                        2: predTemp[2],\n",
    "                        3: predTemp[3],\n",
    "                    }\n",
    "                    predNew = predAssign.map(pred_map)\n",
    "                    predNew = predNew.values\n",
    "                    acc = accuracy_score(true, predNew)\n",
    "                    if acc > max: \n",
    "                        max = acc\n",
    "                        predFinal = predNew  \n",
    "                else:\n",
    "                    continue"
   ]
  },
  {
   "cell_type": "code",
   "execution_count": 31,
   "metadata": {
    "ExecuteTime": {
     "end_time": "2021-10-09T00:30:16.271045Z",
     "start_time": "2021-10-09T00:30:16.239142Z"
    }
   },
   "outputs": [
    {
     "name": "stdout",
     "output_type": "stream",
     "text": [
      "acc_sklearn: 0.5398613518197574\n",
      "0.46040415283311503 0.48061405089397613 0.4614834935291472\n"
     ]
    }
   ],
   "source": [
    "#Accuracy!\n",
    "from sklearn.metrics import accuracy_score\n",
    "print(\"acc_sklearn:\",accuracy_score(true, predFinal))\n",
    "\n",
    "#Assign new class to pred.\n",
    "precision_c0,recall_c0,f1_c0=F1(predFinal,true.tolist(),0)\n",
    "precision_c1,recall_c1,f1_c1=F1(predFinal,true.tolist(),1)\n",
    "precision_c2,recall_c2,f1_c2=F1(predFinal,true.tolist(),2)\n",
    "precision_c3,recall_c3,f1_c3=F1(predFinal,true.tolist(),3)\n",
    "\n",
    "preAvg=(precision_c0+precision_c1+precision_c2+precision_c3)/4\n",
    "reAvg=(recall_c0+recall_c1+recall_c2+recall_c3)/4\n",
    "f1Avg=(f1_c0+f1_c1+f1_c2+f1_c3)/4\n",
    "\n",
    "print(preAvg,reAvg,f1Avg)"
   ]
  },
  {
   "cell_type": "code",
   "execution_count": null,
   "metadata": {},
   "outputs": [],
   "source": []
  }
 ],
 "metadata": {
  "kernelspec": {
   "display_name": "Python 3",
   "language": "python",
   "name": "python3"
  },
  "language_info": {
   "codemirror_mode": {
    "name": "ipython",
    "version": 3
   },
   "file_extension": ".py",
   "mimetype": "text/x-python",
   "name": "python",
   "nbconvert_exporter": "python",
   "pygments_lexer": "ipython3",
   "version": "3.7.6"
  }
 },
 "nbformat": 4,
 "nbformat_minor": 4
}
