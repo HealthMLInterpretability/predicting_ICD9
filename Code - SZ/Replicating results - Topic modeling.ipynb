{
 "cells": [
  {
   "cell_type": "code",
   "execution_count": 31,
   "metadata": {
    "ExecuteTime": {
     "end_time": "2021-10-08T23:29:13.751130Z",
     "start_time": "2021-10-08T23:29:13.742154Z"
    }
   },
   "outputs": [],
   "source": [
    "import warnings\n",
    "warnings.filterwarnings('ignore', category=DeprecationWarning)\n",
    "\n",
    "import gensim\n",
    "import gensim.corpora as corpora\n",
    "import gensim.models\n",
    "\n",
    "import os\n",
    "from gensim.models.wrappers import LdaMallet\n",
    "os.environ.update({'MALLET_HOME':r'/mallet-2.0.8'})\n",
    "from gensim.models import CoherenceModel\n",
    "\n",
    "import pyLDAvis\n",
    "import pyLDAvis.gensim_models\n",
    "pyLDAvis.enable_notebook()\n",
    "\n",
    "import logging\n",
    "logging.basicConfig(format='%(asctime)s : %(levelname)s : %(message)s', level=logging.ERROR)\n",
    "from nltk.tokenize import word_tokenize\n",
    "\n",
    "from pprint import pprint\n",
    "import numpy as np\n",
    "import pandas as pd\n",
    "\n"
   ]
  },
  {
   "cell_type": "code",
   "execution_count": 8,
   "metadata": {
    "ExecuteTime": {
     "end_time": "2021-10-08T23:08:57.890310Z",
     "start_time": "2021-10-08T23:08:51.316049Z"
    }
   },
   "outputs": [],
   "source": [
    "df = pd.read_csv('MP_RESULTS_text_cleaned.csv')\n",
    "df = df.fillna('')"
   ]
  },
  {
   "cell_type": "code",
   "execution_count": 9,
   "metadata": {
    "ExecuteTime": {
     "end_time": "2021-10-08T23:09:58.798206Z",
     "start_time": "2021-10-08T23:08:57.890310Z"
    }
   },
   "outputs": [],
   "source": [
    "tokenized_words = [word_tokenize(i) for i in df['TEXT_cleaned']]"
   ]
  },
  {
   "cell_type": "markdown",
   "metadata": {
    "ExecuteTime": {
     "end_time": "2021-09-30T16:53:18.798476Z",
     "start_time": "2021-09-30T16:53:18.779919Z"
    }
   },
   "source": [
    "### Topic Modeling"
   ]
  },
  {
   "cell_type": "code",
   "execution_count": 10,
   "metadata": {
    "ExecuteTime": {
     "end_time": "2021-10-08T23:10:19.548776Z",
     "start_time": "2021-10-08T23:09:58.802206Z"
    }
   },
   "outputs": [],
   "source": [
    "# Create Dictionary\n",
    "id2word = corpora.Dictionary(tokenized_words) #use entire corpus\n",
    "id2word.filter_extremes(no_below=20, no_above=0.5)\n",
    "\n",
    "# Create Corpus\n",
    "texts = tokenized_words\n",
    "# Term Document Frequency\n",
    "corpus = [id2word.doc2bow(text) for text in texts]"
   ]
  },
  {
   "cell_type": "code",
   "execution_count": 11,
   "metadata": {
    "ExecuteTime": {
     "end_time": "2021-10-08T23:10:19.564218Z",
     "start_time": "2021-10-08T23:10:19.550771Z"
    }
   },
   "outputs": [
    {
     "name": "stdout",
     "output_type": "stream",
     "text": [
      "Dictionary(7715 unique tokens: ['aneurysm', 'centimeter', 'confirming', 'country', 'department']...)\n"
     ]
    }
   ],
   "source": [
    "print(id2word)"
   ]
  },
  {
   "cell_type": "code",
   "execution_count": 12,
   "metadata": {
    "ExecuteTime": {
     "end_time": "2021-10-08T23:10:19.610617Z",
     "start_time": "2021-10-08T23:10:19.567652Z"
    },
    "code_folding": [
     0
    ],
    "run_control": {
     "marked": true
    }
   },
   "outputs": [],
   "source": [
    "def compute_coherence_values(dictionary, corpus, texts, limit, start=2, step=3):\n",
    "    \"\"\"\n",
    "    Compute c_v coherence for various number of topics\n",
    "\n",
    "    Parameters:\n",
    "    ----------\n",
    "    dictionary : Gensim dictionary\n",
    "    corpus : Gensim corpus\n",
    "    texts : List of input texts\n",
    "    limit : Max num of topics\n",
    "\n",
    "    Returns:\n",
    "    -------\n",
    "    model_list : List of LDA topic models\n",
    "    coherence_values : Coherence values corresponding to the LDA model with respective number of topics\n",
    "    \"\"\"\n",
    "    coherence_values = []\n",
    "    model_list = []\n",
    "    for num_topics in range(start, limit, step):\n",
    "        print('Calculating {}-topic model'.format(num_topics))\n",
    "        model = gensim.models.ldamodel.LdaModel(corpus=corpus, num_topics=num_topics, id2word=id2word)\n",
    "        model_list.append(model)\n",
    "        coherencemodel = CoherenceModel(model=model, texts=texts, dictionary=dictionary, coherence='c_v')\n",
    "        coherence_values.append(coherencemodel.get_coherence())\n",
    "\n",
    "    return model_list, coherence_values"
   ]
  },
  {
   "cell_type": "code",
   "execution_count": 13,
   "metadata": {
    "ExecuteTime": {
     "end_time": "2021-10-08T23:10:19.625562Z",
     "start_time": "2021-10-08T23:10:19.615630Z"
    }
   },
   "outputs": [],
   "source": [
    "#limit=20; start=2; step=1;\n",
    "#model_list, coherence_values = compute_coherence_values(dictionary=id2word,\n",
    "#                                                        corpus=corpus,\n",
    " #                                                       texts=texts,\n",
    "  #                                                      start=start,\n",
    "   #                                                     limit=limit,\n",
    "    #                                                    step=step)"
   ]
  },
  {
   "cell_type": "code",
   "execution_count": 14,
   "metadata": {
    "ExecuteTime": {
     "end_time": "2021-10-08T23:10:19.641519Z",
     "start_time": "2021-10-08T23:10:19.633544Z"
    }
   },
   "outputs": [],
   "source": [
    "# show graph\n",
    "#x = range(start, limit, step)\n",
    "#plt.figure(figsize=(15, 10))\n",
    "#plt.plot(x, coherence_values)\n",
    "#plt.xlabel(\"Num Topics\")\n",
    "#plt.ylabel(\"Coherence score\")\n",
    "#plt.show()"
   ]
  },
  {
   "cell_type": "code",
   "execution_count": 15,
   "metadata": {
    "ExecuteTime": {
     "end_time": "2021-10-08T23:10:19.656514Z",
     "start_time": "2021-10-08T23:10:19.646545Z"
    }
   },
   "outputs": [],
   "source": [
    "# Print the coherence scores\n",
    "#for m, cv in zip(x, coherence_values):\n",
    "#    print(\"Num Topics =\", m, \" has Coherence Value of\", round(cv, 6))"
   ]
  },
  {
   "cell_type": "code",
   "execution_count": 16,
   "metadata": {
    "ExecuteTime": {
     "end_time": "2021-10-08T23:21:28.160639Z",
     "start_time": "2021-10-08T23:10:19.660510Z"
    }
   },
   "outputs": [],
   "source": [
    "# Building LDA Model = LDA Model removing my_stop_words & featuring 30 topics\n",
    "optimal_topics = 9\n",
    "lda_model_optimal = gensim.models.ldamodel.LdaModel(corpus=corpus,\n",
    "                                           id2word=id2word,\n",
    "                                           num_topics=optimal_topics, \n",
    "                                           random_state=100,\n",
    "                                           update_every=1,\n",
    "                                           chunksize=100,\n",
    "                                           passes=10,\n",
    "                                           alpha='auto',\n",
    "                                           per_word_topics=True)"
   ]
  },
  {
   "cell_type": "code",
   "execution_count": 17,
   "metadata": {
    "ExecuteTime": {
     "end_time": "2021-10-08T23:21:28.216541Z",
     "start_time": "2021-10-08T23:21:28.165022Z"
    }
   },
   "outputs": [
    {
     "name": "stdout",
     "output_type": "stream",
     "text": [
      "[(0,\n",
      "  '0.027*\"right\" + 0.024*\"left\" + 0.013*\"mass\" + 0.010*\"last\" + 0.009*\"lower\" '\n",
      "  '+ 0.008*\"surgery\" + 0.008*\"lung\" + 0.008*\"extremity\" + 0.008*\"underwent\" + '\n",
      "  '0.007*\"edema\" + 0.007*\"known\" + 0.007*\"site\" + 0.007*\"wound\" + '\n",
      "  '0.006*\"cancer\" + 0.006*\"scan\"'),\n",
      " (1,\n",
      "  '0.032*\"left\" + 0.031*\"artery\" + 0.026*\"disease\" + 0.025*\"coronary\" + '\n",
      "  '0.023*\"cardiac\" + 0.019*\"aortic\" + 0.019*\"catheterization\" + '\n",
      "  '0.018*\"stenosis\" + 0.016*\"chest\" + 0.015*\"right\" + 0.014*\"showed\" + '\n",
      "  '0.013*\"revealed\" + 0.012*\"referred\" + 0.012*\"male\" + 0.012*\"severe\"'),\n",
      " (2,\n",
      "  '0.035*\"blood\" + 0.019*\"unit\" + 0.016*\"emergency\" + 0.015*\"abdominal\" + '\n",
      "  '0.013*\"pressure\" + 0.013*\"transferred\" + 0.011*\"prior\" + 0.010*\"nausea\" + '\n",
      "  '0.009*\"vomiting\" + 0.009*\"medical\" + 0.009*\"department\" + 0.009*\"episode\" + '\n",
      "  '0.008*\"room\" + 0.008*\"bleeding\" + 0.008*\"stool\"'),\n",
      " (3,\n",
      "  '0.019*\"denies\" + 0.015*\"clear\" + 0.015*\"neck\" + 0.014*\"edema\" + '\n",
      "  '0.012*\"lung\" + 0.011*\"bilaterally\" + 0.011*\"supple\" + 0.010*\"normal\" + '\n",
      "  '0.010*\"abdomen\" + 0.010*\"bowel\" + 0.010*\"murmur\" + 0.010*\"sound\" + '\n",
      "  '0.010*\"general\" + 0.009*\"report\" + 0.009*\"pulse\"'),\n",
      " (4,\n",
      "  '0.038*\"chest\" + 0.013*\"cardiac\" + 0.013*\"denies\" + 0.010*\"dyspnea\" + '\n",
      "  '0.010*\"prior\" + 0.010*\"review\" + 0.010*\"system\" + 0.009*\"cath\" + '\n",
      "  '0.008*\"heparin\" + 0.008*\"syncope\" + 0.007*\"orthopnea\" + 0.007*\"palpitation\" '\n",
      "  '+ 0.007*\"pressure\" + 0.007*\"carotid\" + 0.006*\"exertion\"'),\n",
      " (5,\n",
      "  '0.020*\"left\" + 0.020*\"right\" + 0.018*\"noted\" + 0.015*\"headache\" + '\n",
      "  '0.014*\"weakness\" + 0.014*\"seizure\" + 0.010*\"head\" + 0.010*\"last\" + '\n",
      "  '0.010*\"known\" + 0.009*\"difficulty\" + 0.009*\"report\" + 0.008*\"state\" + '\n",
      "  '0.008*\"sided\" + 0.007*\"called\" + 0.007*\"wife\"'),\n",
      " (6,\n",
      "  '0.028*\"given\" + 0.024*\"intubated\" + 0.018*\"found\" + 0.013*\"arrival\" + '\n",
      "  '0.012*\"received\" + 0.011*\"started\" + 0.010*\"placed\" + 0.009*\"mental\" + '\n",
      "  '0.009*\"transferred\" + 0.009*\"transfer\" + 0.009*\"sedated\" + 0.009*\"unable\" + '\n",
      "  '0.007*\"place\" + 0.007*\"noted\" + 0.007*\"initial\"'),\n",
      " (7,\n",
      "  '0.024*\"intact\" + 0.023*\"fall\" + 0.019*\"left\" + 0.016*\"bilaterally\" + '\n",
      "  '0.016*\"fracture\" + 0.016*\"head\" + 0.014*\"normal\" + 0.013*\"pupil\" + '\n",
      "  '0.013*\"neck\" + 0.013*\"motor\" + 0.012*\"right\" + 0.009*\"neuro\" + '\n",
      "  '0.009*\"alert\" + 0.009*\"extremity\" + 0.009*\"awake\"'),\n",
      " (8,\n",
      "  '0.016*\"breath\" + 0.016*\"respiratory\" + 0.014*\"fever\" + 0.012*\"treated\" + '\n",
      "  '0.011*\"course\" + 0.011*\"increased\" + 0.011*\"cough\" + 0.011*\"shortness\" + '\n",
      "  '0.010*\"failure\" + 0.009*\"started\" + 0.009*\"chest\" + 0.008*\"showed\" + '\n",
      "  '0.008*\"rehab\" + 0.008*\"pneumonia\" + 0.007*\"culture\"')]\n"
     ]
    }
   ],
   "source": [
    "pprint(lda_model_optimal.print_topics(num_topics=optimal_topics, num_words=15))\n",
    "doc_lda = lda_model_optimal[corpus]"
   ]
  },
  {
   "cell_type": "code",
   "execution_count": 18,
   "metadata": {
    "ExecuteTime": {
     "end_time": "2021-10-08T23:25:02.292497Z",
     "start_time": "2021-10-08T23:21:28.224868Z"
    },
    "scrolled": true
   },
   "outputs": [
    {
     "name": "stdout",
     "output_type": "stream",
     "text": [
      "\n",
      "Perplexity:  -7.228452411799298\n",
      "\n",
      "Coherence Score:  0.4878073507244822\n"
     ]
    }
   ],
   "source": [
    "# Compute Perplexity\n",
    "print('\\nPerplexity: ', lda_model_optimal.log_perplexity(corpus))  # a measure of how good the model is. lower the better.\n",
    "\n",
    "# Compute Coherence Score\n",
    "coherence_model_lda = CoherenceModel(model=lda_model_optimal, texts=texts, dictionary=id2word, coherence='c_v')\n",
    "coherence_lda = coherence_model_lda.get_coherence()\n",
    "print('\\nCoherence Score: ', coherence_lda)"
   ]
  },
  {
   "cell_type": "code",
   "execution_count": 19,
   "metadata": {
    "ExecuteTime": {
     "end_time": "2021-10-08T23:25:02.307456Z",
     "start_time": "2021-10-08T23:25:02.295489Z"
    }
   },
   "outputs": [],
   "source": [
    "vector = lda_model_optimal[corpus]  # get topic probability distribution for a document"
   ]
  },
  {
   "cell_type": "code",
   "execution_count": 20,
   "metadata": {
    "ExecuteTime": {
     "end_time": "2021-10-08T23:25:02.339370Z",
     "start_time": "2021-10-08T23:25:02.310448Z"
    }
   },
   "outputs": [],
   "source": [
    "def Extract(vector):\n",
    "    return [item[0] for item in vector]"
   ]
  },
  {
   "cell_type": "code",
   "execution_count": 21,
   "metadata": {
    "ExecuteTime": {
     "end_time": "2021-10-08T23:27:35.893857Z",
     "start_time": "2021-10-08T23:25:02.341365Z"
    }
   },
   "outputs": [],
   "source": [
    "vector_prob = Extract(vector)"
   ]
  },
  {
   "cell_type": "code",
   "execution_count": 22,
   "metadata": {
    "ExecuteTime": {
     "end_time": "2021-10-08T23:27:35.971216Z",
     "start_time": "2021-10-08T23:27:35.895887Z"
    }
   },
   "outputs": [
    {
     "data": {
      "text/html": [
       "<div>\n",
       "<style scoped>\n",
       "    .dataframe tbody tr th:only-of-type {\n",
       "        vertical-align: middle;\n",
       "    }\n",
       "\n",
       "    .dataframe tbody tr th {\n",
       "        vertical-align: top;\n",
       "    }\n",
       "\n",
       "    .dataframe thead th {\n",
       "        text-align: right;\n",
       "    }\n",
       "</style>\n",
       "<table border=\"1\" class=\"dataframe\">\n",
       "  <thead>\n",
       "    <tr style=\"text-align: right;\">\n",
       "      <th></th>\n",
       "      <th>0</th>\n",
       "      <th>1</th>\n",
       "      <th>2</th>\n",
       "      <th>3</th>\n",
       "      <th>4</th>\n",
       "      <th>5</th>\n",
       "      <th>6</th>\n",
       "      <th>7</th>\n",
       "      <th>8</th>\n",
       "    </tr>\n",
       "  </thead>\n",
       "  <tbody>\n",
       "    <tr>\n",
       "      <th>0</th>\n",
       "      <td>(0, 0.016113982)</td>\n",
       "      <td>(1, 0.17208478)</td>\n",
       "      <td>(2, 0.14316958)</td>\n",
       "      <td>(3, 0.029177472)</td>\n",
       "      <td>(4, 0.010300385)</td>\n",
       "      <td>(5, 0.37597695)</td>\n",
       "      <td>(6, 0.011933415)</td>\n",
       "      <td>(8, 0.23534687)</td>\n",
       "      <td>None</td>\n",
       "    </tr>\n",
       "    <tr>\n",
       "      <th>1</th>\n",
       "      <td>(0, 0.032641087)</td>\n",
       "      <td>(1, 0.66343254)</td>\n",
       "      <td>(2, 0.010727578)</td>\n",
       "      <td>(3, 0.10086044)</td>\n",
       "      <td>(4, 0.085983776)</td>\n",
       "      <td>(5, 0.010597374)</td>\n",
       "      <td>(6, 0.0771762)</td>\n",
       "      <td>(8, 0.014075702)</td>\n",
       "      <td>None</td>\n",
       "    </tr>\n",
       "    <tr>\n",
       "      <th>2</th>\n",
       "      <td>(0, 0.11793959)</td>\n",
       "      <td>(2, 0.036749266)</td>\n",
       "      <td>(3, 0.070198)</td>\n",
       "      <td>(4, 0.01389171)</td>\n",
       "      <td>(5, 0.0513266)</td>\n",
       "      <td>(7, 0.6851212)</td>\n",
       "      <td>(8, 0.013545754)</td>\n",
       "      <td>None</td>\n",
       "      <td>None</td>\n",
       "    </tr>\n",
       "    <tr>\n",
       "      <th>3</th>\n",
       "      <td>(0, 0.1689838)</td>\n",
       "      <td>(2, 0.07162671)</td>\n",
       "      <td>(3, 0.4450032)</td>\n",
       "      <td>(4, 0.01588168)</td>\n",
       "      <td>(5, 0.051688373)</td>\n",
       "      <td>(6, 0.23148713)</td>\n",
       "      <td>(8, 0.010200584)</td>\n",
       "      <td>None</td>\n",
       "      <td>None</td>\n",
       "    </tr>\n",
       "    <tr>\n",
       "      <th>4</th>\n",
       "      <td>(0, 0.17378408)</td>\n",
       "      <td>(1, 0.05888809)</td>\n",
       "      <td>(2, 0.290153)</td>\n",
       "      <td>(3, 0.015139234)</td>\n",
       "      <td>(6, 0.03818894)</td>\n",
       "      <td>(8, 0.40387017)</td>\n",
       "      <td>None</td>\n",
       "      <td>None</td>\n",
       "      <td>None</td>\n",
       "    </tr>\n",
       "  </tbody>\n",
       "</table>\n",
       "</div>"
      ],
      "text/plain": [
       "                  0                 1                 2                 3  \\\n",
       "0  (0, 0.016113982)   (1, 0.17208478)   (2, 0.14316958)  (3, 0.029177472)   \n",
       "1  (0, 0.032641087)   (1, 0.66343254)  (2, 0.010727578)   (3, 0.10086044)   \n",
       "2   (0, 0.11793959)  (2, 0.036749266)     (3, 0.070198)   (4, 0.01389171)   \n",
       "3    (0, 0.1689838)   (2, 0.07162671)    (3, 0.4450032)   (4, 0.01588168)   \n",
       "4   (0, 0.17378408)   (1, 0.05888809)     (2, 0.290153)  (3, 0.015139234)   \n",
       "\n",
       "                  4                 5                 6                 7  \\\n",
       "0  (4, 0.010300385)   (5, 0.37597695)  (6, 0.011933415)   (8, 0.23534687)   \n",
       "1  (4, 0.085983776)  (5, 0.010597374)    (6, 0.0771762)  (8, 0.014075702)   \n",
       "2    (5, 0.0513266)    (7, 0.6851212)  (8, 0.013545754)              None   \n",
       "3  (5, 0.051688373)   (6, 0.23148713)  (8, 0.010200584)              None   \n",
       "4   (6, 0.03818894)   (8, 0.40387017)              None              None   \n",
       "\n",
       "      8  \n",
       "0  None  \n",
       "1  None  \n",
       "2  None  \n",
       "3  None  \n",
       "4  None  "
      ]
     },
     "execution_count": 22,
     "metadata": {},
     "output_type": "execute_result"
    }
   ],
   "source": [
    "vector_prob_df = pd.DataFrame(vector_prob, columns=list(range(0, optimal_topics)))\n",
    "vector_prob_df.head()"
   ]
  },
  {
   "cell_type": "code",
   "execution_count": 23,
   "metadata": {
    "ExecuteTime": {
     "end_time": "2021-10-08T23:27:35.986176Z",
     "start_time": "2021-10-08T23:27:35.973210Z"
    }
   },
   "outputs": [],
   "source": [
    "def clean_df(df):\n",
    "    #Create empty dataframe copy\n",
    "    df2 = pd.DataFrame(np.zeros(df.shape), columns = df.columns)\n",
    "    nrows = df.shape[0]\n",
    "    ncolumns = df.shape[1]\n",
    "    #Populate empty dataframe\n",
    "    for i in range(nrows):\n",
    "        #Create key:value pair of each row\n",
    "        rowdict = dict(zip([x[0] for x in df.iloc[i] if x != None], [x[1] for x in df.iloc[i] if x != None]))\n",
    "        #Populate row based off of \n",
    "        for j in range(ncolumns):\n",
    "            if j in rowdict.keys():\n",
    "                df2.iloc[i][j] = rowdict[j]\n",
    "            else:\n",
    "                df2.iloc[i][j] = None\n",
    "    return df2"
   ]
  },
  {
   "cell_type": "code",
   "execution_count": 24,
   "metadata": {
    "ExecuteTime": {
     "end_time": "2021-10-08T23:28:22.580620Z",
     "start_time": "2021-10-08T23:27:35.990167Z"
    }
   },
   "outputs": [
    {
     "data": {
      "text/html": [
       "<div>\n",
       "<style scoped>\n",
       "    .dataframe tbody tr th:only-of-type {\n",
       "        vertical-align: middle;\n",
       "    }\n",
       "\n",
       "    .dataframe tbody tr th {\n",
       "        vertical-align: top;\n",
       "    }\n",
       "\n",
       "    .dataframe thead th {\n",
       "        text-align: right;\n",
       "    }\n",
       "</style>\n",
       "<table border=\"1\" class=\"dataframe\">\n",
       "  <thead>\n",
       "    <tr style=\"text-align: right;\">\n",
       "      <th></th>\n",
       "      <th>0</th>\n",
       "      <th>1</th>\n",
       "      <th>2</th>\n",
       "      <th>3</th>\n",
       "      <th>4</th>\n",
       "      <th>5</th>\n",
       "      <th>6</th>\n",
       "      <th>7</th>\n",
       "      <th>8</th>\n",
       "    </tr>\n",
       "  </thead>\n",
       "  <tbody>\n",
       "    <tr>\n",
       "      <th>0</th>\n",
       "      <td>0.016114</td>\n",
       "      <td>0.172085</td>\n",
       "      <td>0.143170</td>\n",
       "      <td>0.029177</td>\n",
       "      <td>0.010300</td>\n",
       "      <td>0.375977</td>\n",
       "      <td>0.011933</td>\n",
       "      <td>NaN</td>\n",
       "      <td>0.235347</td>\n",
       "    </tr>\n",
       "    <tr>\n",
       "      <th>1</th>\n",
       "      <td>0.032641</td>\n",
       "      <td>0.663433</td>\n",
       "      <td>0.010728</td>\n",
       "      <td>0.100860</td>\n",
       "      <td>0.085984</td>\n",
       "      <td>0.010597</td>\n",
       "      <td>0.077176</td>\n",
       "      <td>NaN</td>\n",
       "      <td>0.014076</td>\n",
       "    </tr>\n",
       "    <tr>\n",
       "      <th>2</th>\n",
       "      <td>0.117940</td>\n",
       "      <td>NaN</td>\n",
       "      <td>0.036749</td>\n",
       "      <td>0.070198</td>\n",
       "      <td>0.013892</td>\n",
       "      <td>0.051327</td>\n",
       "      <td>NaN</td>\n",
       "      <td>0.685121</td>\n",
       "      <td>0.013546</td>\n",
       "    </tr>\n",
       "    <tr>\n",
       "      <th>3</th>\n",
       "      <td>0.168984</td>\n",
       "      <td>NaN</td>\n",
       "      <td>0.071627</td>\n",
       "      <td>0.445003</td>\n",
       "      <td>0.015882</td>\n",
       "      <td>0.051688</td>\n",
       "      <td>0.231487</td>\n",
       "      <td>NaN</td>\n",
       "      <td>0.010201</td>\n",
       "    </tr>\n",
       "    <tr>\n",
       "      <th>4</th>\n",
       "      <td>0.173784</td>\n",
       "      <td>0.058888</td>\n",
       "      <td>0.290153</td>\n",
       "      <td>0.015139</td>\n",
       "      <td>NaN</td>\n",
       "      <td>NaN</td>\n",
       "      <td>0.038189</td>\n",
       "      <td>NaN</td>\n",
       "      <td>0.403870</td>\n",
       "    </tr>\n",
       "  </tbody>\n",
       "</table>\n",
       "</div>"
      ],
      "text/plain": [
       "          0         1         2         3         4         5         6  \\\n",
       "0  0.016114  0.172085  0.143170  0.029177  0.010300  0.375977  0.011933   \n",
       "1  0.032641  0.663433  0.010728  0.100860  0.085984  0.010597  0.077176   \n",
       "2  0.117940       NaN  0.036749  0.070198  0.013892  0.051327       NaN   \n",
       "3  0.168984       NaN  0.071627  0.445003  0.015882  0.051688  0.231487   \n",
       "4  0.173784  0.058888  0.290153  0.015139       NaN       NaN  0.038189   \n",
       "\n",
       "          7         8  \n",
       "0       NaN  0.235347  \n",
       "1       NaN  0.014076  \n",
       "2  0.685121  0.013546  \n",
       "3       NaN  0.010201  \n",
       "4       NaN  0.403870  "
      ]
     },
     "execution_count": 24,
     "metadata": {},
     "output_type": "execute_result"
    }
   ],
   "source": [
    "vector_prob_df_align = clean_df(vector_prob_df)\n",
    "vector_prob_df_align.head()"
   ]
  },
  {
   "cell_type": "code",
   "execution_count": 25,
   "metadata": {
    "ExecuteTime": {
     "end_time": "2021-10-08T23:28:22.595579Z",
     "start_time": "2021-10-08T23:28:22.583610Z"
    }
   },
   "outputs": [],
   "source": [
    "topics = vector_prob_df_align\n",
    "labels = df['hospital_expire_flag']"
   ]
  },
  {
   "cell_type": "code",
   "execution_count": 26,
   "metadata": {
    "ExecuteTime": {
     "end_time": "2021-10-08T23:28:22.626526Z",
     "start_time": "2021-10-08T23:28:22.598568Z"
    }
   },
   "outputs": [],
   "source": [
    "topic_modeling_results = pd.concat([labels, topics], axis=1)\n",
    "topic_modeling_results = topic_modeling_results.fillna(0)"
   ]
  },
  {
   "cell_type": "code",
   "execution_count": 32,
   "metadata": {
    "ExecuteTime": {
     "end_time": "2021-10-08T23:30:09.928674Z",
     "start_time": "2021-10-08T23:30:09.911665Z"
    }
   },
   "outputs": [],
   "source": [
    "from sklearn.feature_extraction.text import TfidfVectorizer\n",
    "from sklearn.tree import DecisionTreeClassifier\n",
    "from sklearn.model_selection import train_test_split\n",
    "\n",
    "from imblearn.under_sampling import RandomUnderSampler\n",
    "from imblearn.pipeline import Pipeline\n",
    "from sklearn.datasets import make_classification\n",
    "from sklearn.model_selection import cross_val_score\n",
    "from sklearn.model_selection import KFold\n",
    "from sklearn.model_selection import RepeatedStratifiedKFold\n",
    "from sklearn.tree import DecisionTreeClassifier\n",
    "from imblearn.pipeline import Pipeline\n",
    "from sklearn.ensemble import RandomForestClassifier\n",
    "from sklearn import metrics"
   ]
  },
  {
   "cell_type": "code",
   "execution_count": 28,
   "metadata": {
    "ExecuteTime": {
     "end_time": "2021-10-08T23:28:22.858874Z",
     "start_time": "2021-10-08T23:28:22.845906Z"
    }
   },
   "outputs": [],
   "source": [
    "X = topic_modeling_results.drop(columns=['hospital_expire_flag'])\n",
    "y = topic_modeling_results['hospital_expire_flag']"
   ]
  },
  {
   "cell_type": "code",
   "execution_count": 34,
   "metadata": {
    "ExecuteTime": {
     "end_time": "2021-10-08T23:31:12.957798Z",
     "start_time": "2021-10-08T23:31:12.213562Z"
    }
   },
   "outputs": [],
   "source": [
    "topic_modeling_results.to_csv('Mortality_Topic_Modeling_9_topics.csv')"
   ]
  },
  {
   "cell_type": "code",
   "execution_count": 29,
   "metadata": {
    "ExecuteTime": {
     "end_time": "2021-10-08T23:28:22.920709Z",
     "start_time": "2021-10-08T23:28:22.864857Z"
    }
   },
   "outputs": [
    {
     "ename": "NameError",
     "evalue": "name 'RepeatedStratifiedKFold' is not defined",
     "output_type": "error",
     "traceback": [
      "\u001b[1;31m---------------------------------------------------------------------------\u001b[0m",
      "\u001b[1;31mNameError\u001b[0m                                 Traceback (most recent call last)",
      "\u001b[1;32m<ipython-input-29-2b16d72afafc>\u001b[0m in \u001b[0;36m<module>\u001b[1;34m\u001b[0m\n\u001b[0;32m      3\u001b[0m \u001b[0mrf\u001b[0m \u001b[1;33m=\u001b[0m \u001b[0mRandomForestClassifier\u001b[0m\u001b[1;33m(\u001b[0m\u001b[1;33m)\u001b[0m\u001b[1;33m\u001b[0m\u001b[1;33m\u001b[0m\u001b[0m\n\u001b[0;32m      4\u001b[0m \u001b[1;31m# evaluate pipeline\u001b[0m\u001b[1;33m\u001b[0m\u001b[1;33m\u001b[0m\u001b[1;33m\u001b[0m\u001b[0m\n\u001b[1;32m----> 5\u001b[1;33m \u001b[0mcv\u001b[0m \u001b[1;33m=\u001b[0m \u001b[0mRepeatedStratifiedKFold\u001b[0m\u001b[1;33m(\u001b[0m\u001b[0mn_splits\u001b[0m\u001b[1;33m=\u001b[0m\u001b[1;36m10\u001b[0m\u001b[1;33m,\u001b[0m \u001b[0mn_repeats\u001b[0m\u001b[1;33m=\u001b[0m\u001b[1;36m3\u001b[0m\u001b[1;33m,\u001b[0m \u001b[0mrandom_state\u001b[0m\u001b[1;33m=\u001b[0m\u001b[1;36m1\u001b[0m\u001b[1;33m)\u001b[0m\u001b[1;33m\u001b[0m\u001b[1;33m\u001b[0m\u001b[0m\n\u001b[0m\u001b[0;32m      6\u001b[0m \u001b[0mscores\u001b[0m \u001b[1;33m=\u001b[0m \u001b[0mcross_val_score\u001b[0m\u001b[1;33m(\u001b[0m\u001b[0mpipeline\u001b[0m\u001b[1;33m,\u001b[0m \u001b[0mX\u001b[0m\u001b[1;33m,\u001b[0m \u001b[0my\u001b[0m\u001b[1;33m,\u001b[0m \u001b[0mcv\u001b[0m\u001b[1;33m=\u001b[0m\u001b[0mcv\u001b[0m\u001b[1;33m,\u001b[0m \u001b[0mn_jobs\u001b[0m\u001b[1;33m=\u001b[0m\u001b[1;33m-\u001b[0m\u001b[1;36m1\u001b[0m\u001b[1;33m)\u001b[0m\u001b[1;33m\u001b[0m\u001b[1;33m\u001b[0m\u001b[0m\n\u001b[0;32m      7\u001b[0m \u001b[0mscore\u001b[0m \u001b[1;33m=\u001b[0m \u001b[0mscores\u001b[0m\u001b[1;33m.\u001b[0m\u001b[0mmean\u001b[0m\u001b[1;33m(\u001b[0m\u001b[1;33m)\u001b[0m\u001b[1;33m\u001b[0m\u001b[1;33m\u001b[0m\u001b[0m\n",
      "\u001b[1;31mNameError\u001b[0m: name 'RepeatedStratifiedKFold' is not defined"
     ]
    }
   ],
   "source": [
    "steps = [('under', RandomUnderSampler()), ('model', RandomForestClassifier())]\n",
    "pipeline = Pipeline(steps=steps)\n",
    "rf = RandomForestClassifier()\n",
    "# evaluate pipeline\n",
    "cv = RepeatedStratifiedKFold(n_splits=10, n_repeats=3, random_state=1)\n",
    "scores = cross_val_score(pipeline, X, y, cv=cv, n_jobs=-1)\n",
    "score = scores.mean()\n",
    "print('F1 Score: %.3f' % score)"
   ]
  },
  {
   "cell_type": "code",
   "execution_count": null,
   "metadata": {
    "ExecuteTime": {
     "end_time": "2021-10-08T23:28:22.924696Z",
     "start_time": "2021-10-08T23:08:50.052Z"
    }
   },
   "outputs": [],
   "source": [
    "#No undersampling:\n",
    "cv = KFold(n_splits=10)\n",
    "X_train, X_test, y_train, y_test = train_test_split(X, y, test_size=0.3)\n",
    "rf = RandomForestClassifier()\n",
    "rf.fit(X_train, y_train)\n",
    "feature_importances = pd.DataFrame({'features': X.columns, 'importance': rf.feature_importances_})\n",
    "y_pred_prob = rf.predict_proba(X_test)\n",
    "y_pred = rf.predict(X_test)\n",
    "lr_auc = metrics.roc_auc_score(y_test, y_pred_prob[:, 1])\n",
    "scores = cross_val_score(rf, X_test, y_test, cv=cv, scoring = 'f1_micro')"
   ]
  },
  {
   "cell_type": "code",
   "execution_count": null,
   "metadata": {
    "ExecuteTime": {
     "end_time": "2021-10-08T23:28:22.925696Z",
     "start_time": "2021-10-08T23:08:50.054Z"
    }
   },
   "outputs": [],
   "source": [
    "print('Mortality Prediction, Topic modeling: No random undersampling')\n",
    "print('AUC: ', lr_auc)\n",
    "print('Bal. accuracy score:', scores.max())\n",
    "print('Feature importance:')\n",
    "print(feature_importances.sort_values(by='importance', ascending=False)[0:10])"
   ]
  },
  {
   "cell_type": "code",
   "execution_count": null,
   "metadata": {
    "ExecuteTime": {
     "end_time": "2021-10-08T23:28:22.926690Z",
     "start_time": "2021-10-08T23:08:50.056Z"
    }
   },
   "outputs": [],
   "source": [
    "#Random undersampling\n",
    "cv = KFold(n_splits=10)\n",
    "steps = [('under', RandomUnderSampler()), ('model', RandomForestClassifier())]\n",
    "pipeline = Pipeline(steps=steps)\n",
    "pipeline.fit(X_train, y_train)\n",
    "feature_importances_under = pd.DataFrame({'features': X.columns, 'importance': pipeline[1].feature_importances_})\n",
    "y_pred_prob_under = pipeline.predict_proba(X_test)\n",
    "y_pred_under = pipeline.predict(X_test)\n",
    "lr_auc_under = metrics.roc_auc_score(y_test, y_pred_prob_under[:, 1])\n",
    "scores_under = cross_val_score(pipeline, X_test, y_test, cv=cv, scoring = 'f1_micro')"
   ]
  },
  {
   "cell_type": "code",
   "execution_count": 30,
   "metadata": {
    "ExecuteTime": {
     "end_time": "2021-10-08T23:28:55.383851Z",
     "start_time": "2021-10-08T23:28:55.353883Z"
    }
   },
   "outputs": [
    {
     "name": "stdout",
     "output_type": "stream",
     "text": [
      "Mortality Prediction - Topic modeling: With random undersampling\n",
      "Topic model DF:  (48684, 10)\n"
     ]
    },
    {
     "ename": "NameError",
     "evalue": "name 'lr_auc_under' is not defined",
     "output_type": "error",
     "traceback": [
      "\u001b[1;31m---------------------------------------------------------------------------\u001b[0m",
      "\u001b[1;31mNameError\u001b[0m                                 Traceback (most recent call last)",
      "\u001b[1;32m<ipython-input-30-5dd4c2ee147d>\u001b[0m in \u001b[0;36m<module>\u001b[1;34m\u001b[0m\n\u001b[0;32m      1\u001b[0m \u001b[0mprint\u001b[0m\u001b[1;33m(\u001b[0m\u001b[1;34m'Mortality Prediction - Topic modeling: With random undersampling'\u001b[0m\u001b[1;33m)\u001b[0m\u001b[1;33m\u001b[0m\u001b[1;33m\u001b[0m\u001b[0m\n\u001b[0;32m      2\u001b[0m \u001b[0mprint\u001b[0m\u001b[1;33m(\u001b[0m\u001b[1;34m'Topic model DF: '\u001b[0m\u001b[1;33m,\u001b[0m \u001b[0mtopic_modeling_results\u001b[0m\u001b[1;33m.\u001b[0m\u001b[0mshape\u001b[0m\u001b[1;33m)\u001b[0m\u001b[1;33m\u001b[0m\u001b[1;33m\u001b[0m\u001b[0m\n\u001b[1;32m----> 3\u001b[1;33m \u001b[0mprint\u001b[0m\u001b[1;33m(\u001b[0m\u001b[1;34m'AUC: '\u001b[0m\u001b[1;33m,\u001b[0m \u001b[0mlr_auc_under\u001b[0m\u001b[1;33m)\u001b[0m\u001b[1;33m\u001b[0m\u001b[1;33m\u001b[0m\u001b[0m\n\u001b[0m\u001b[0;32m      4\u001b[0m \u001b[0mprint\u001b[0m\u001b[1;33m(\u001b[0m\u001b[1;34m'F1 score:'\u001b[0m\u001b[1;33m,\u001b[0m \u001b[0mscores_under\u001b[0m\u001b[1;33m.\u001b[0m\u001b[0mmax\u001b[0m\u001b[1;33m(\u001b[0m\u001b[1;33m)\u001b[0m\u001b[1;33m)\u001b[0m\u001b[1;33m\u001b[0m\u001b[1;33m\u001b[0m\u001b[0m\n\u001b[0;32m      5\u001b[0m \u001b[0mprint\u001b[0m\u001b[1;33m(\u001b[0m\u001b[1;34m'Feature importance:'\u001b[0m\u001b[1;33m)\u001b[0m\u001b[1;33m\u001b[0m\u001b[1;33m\u001b[0m\u001b[0m\n",
      "\u001b[1;31mNameError\u001b[0m: name 'lr_auc_under' is not defined"
     ]
    }
   ],
   "source": [
    "print('Mortality Prediction - Topic modeling: With random undersampling')\n",
    "print('Topic model DF: ', topic_modeling_results.shape)\n",
    "print('AUC: ', lr_auc_under)\n",
    "print('F1 score:', scores_under.max())\n",
    "print('Feature importance:')\n",
    "print(feature_importances_under.sort_values(by='importance', ascending=False)[0:20])"
   ]
  },
  {
   "cell_type": "code",
   "execution_count": null,
   "metadata": {},
   "outputs": [],
   "source": []
  }
 ],
 "metadata": {
  "kernelspec": {
   "display_name": "Python 3",
   "language": "python",
   "name": "python3"
  },
  "language_info": {
   "codemirror_mode": {
    "name": "ipython",
    "version": 3
   },
   "file_extension": ".py",
   "mimetype": "text/x-python",
   "name": "python",
   "nbconvert_exporter": "python",
   "pygments_lexer": "ipython3",
   "version": "3.7.6"
  }
 },
 "nbformat": 4,
 "nbformat_minor": 4
}
