{
  "cells": [
    {
      "cell_type": "markdown",
      "source": [
        "Inorder to train baseline models on custom w2v dataset please use baseline model python file from github repo* here :\n",
        "https://github.com/HealthMLInterpretability/predicting_ICD9/tree/main/Code%20-%20Python%20Version%20Arya"
      ],
      "metadata": {
        "id": "HhxzLfvW7xND"
      }
    },
    {
      "cell_type": "markdown",
      "metadata": {
        "id": "OxlVH2CNQorI"
      },
      "source": [
        "## 1. Importing Libraries"
      ]
    },
    {
      "cell_type": "code",
      "execution_count": null,
      "metadata": {
        "colab": {
          "base_uri": "https://localhost:8080/"
        },
        "id": "Hqm5IBN78M6d",
        "outputId": "6ae8f647-a2c8-4b75-a82f-66ee9effca05"
      },
      "outputs": [
        {
          "output_type": "stream",
          "name": "stdout",
          "text": [
            "Requirement already satisfied: contractions in /usr/local/lib/python3.7/dist-packages (0.1.66)\n",
            "Requirement already satisfied: textsearch>=0.0.21 in /usr/local/lib/python3.7/dist-packages (from contractions) (0.0.21)\n",
            "Requirement already satisfied: anyascii in /usr/local/lib/python3.7/dist-packages (from textsearch>=0.0.21->contractions) (0.3.0)\n",
            "Requirement already satisfied: pyahocorasick in /usr/local/lib/python3.7/dist-packages (from textsearch>=0.0.21->contractions) (1.4.4)\n",
            "[nltk_data] Downloading package wordnet to /root/nltk_data...\n",
            "[nltk_data]   Package wordnet is already up-to-date!\n",
            "[nltk_data] Downloading package stopwords to /root/nltk_data...\n",
            "[nltk_data]   Package stopwords is already up-to-date!\n",
            "[nltk_data] Downloading package punkt to /root/nltk_data...\n",
            "[nltk_data]   Package punkt is already up-to-date!\n"
          ]
        }
      ],
      "source": [
        "!pip install contractions\n",
        "import nltk\n",
        "nltk.download('wordnet')\n",
        "import pandas as pd\n",
        "from tqdm import tqdm\n",
        "import numpy as np\n",
        "from nltk.tokenize import word_tokenize\n",
        "from keras.preprocessing.text import Tokenizer\n",
        "import contractions\n",
        "from sklearn.metrics import accuracy_score\n",
        "import keras\n",
        "from keras.utils import np_utils\n",
        "from sklearn.metrics import confusion_matrix\n",
        "from sklearn.metrics import classification_report\n",
        "import matplotlib.pyplot as plt\n",
        "import seaborn as sns\n",
        "from nltk import WordNetLemmatizer\n",
        "lemmatizer = WordNetLemmatizer()\n",
        "from sklearn.model_selection import train_test_split\n",
        "from keras.models import Sequential\n",
        "from keras.layers.core import Dense, Dropout, Activation\n",
        "import tensorflow as tf\n",
        "from tensorflow.keras import backend as K\n",
        "from keras.layers import Embedding\n",
        "from keras.layers import Input, Flatten\n",
        "from keras.layers import Dense, Dropout, Conv1D, MaxPool1D, GlobalMaxPool1D, Embedding, Activation\n",
        "from keras.layers import Dense, Input, LSTM, SimpleRNN, Embedding, Dropout, SpatialDropout1D, Activation, Conv1D,GRU\n",
        "from keras.layers import Conv1D, Bidirectional, GlobalMaxPool1D, MaxPooling1D, BatchNormalization, Add, Flatten\n",
        "from keras.models import Model\n",
        "from keras.callbacks import ModelCheckpoint\n",
        "from keras.layers.embeddings import Embedding\n",
        "import nltk\n",
        "from keras.preprocessing.text import Tokenizer\n",
        "from keras.preprocessing.sequence import pad_sequences\n",
        "nltk.download('stopwords')\n",
        "nltk.download('punkt')\n",
        "from nltk.corpus import stopwords\n",
        "stopwords_collections=set(stopwords.words('english'))\n",
        "tokenizer = nltk.data.load('tokenizers/punkt/english.pickle')\n",
        "import warnings\n",
        "warnings.filterwarnings('ignore', category=DeprecationWarning)"
      ]
    },
    {
      "cell_type": "code",
      "execution_count": null,
      "metadata": {
        "id": "0HRlg_Zq9w5m"
      },
      "outputs": [],
      "source": [
        "df = pd.read_csv(\"/content/drive/MyDrive/AI Projects and Dataset/Health ML/cleaned_dataset_with_digits.csv\")  # Loading dataset"
      ]
    },
    {
      "cell_type": "code",
      "execution_count": null,
      "metadata": {
        "id": "i-_ho0fraz9B"
      },
      "outputs": [],
      "source": [
        "df= df.rename(columns={\"TEXT\":\"text\"}) "
      ]
    },
    {
      "cell_type": "code",
      "execution_count": null,
      "metadata": {
        "id": "_cLP3wz3-aO6"
      },
      "outputs": [],
      "source": [
        "df = df.iloc[:, 0:2]"
      ]
    },
    {
      "cell_type": "code",
      "execution_count": null,
      "metadata": {
        "colab": {
          "base_uri": "https://localhost:8080/",
          "height": 206
        },
        "id": "VKeYKymC-blo",
        "outputId": "531ba07a-d922-4898-df15-456a68c62df5"
      },
      "outputs": [
        {
          "output_type": "execute_result",
          "data": {
            "text/html": [
              "\n",
              "  <div id=\"df-a299d3d9-e3bf-4ac8-bf3b-d7a8615a242c\">\n",
              "    <div class=\"colab-df-container\">\n",
              "      <div>\n",
              "<style scoped>\n",
              "    .dataframe tbody tr th:only-of-type {\n",
              "        vertical-align: middle;\n",
              "    }\n",
              "\n",
              "    .dataframe tbody tr th {\n",
              "        vertical-align: top;\n",
              "    }\n",
              "\n",
              "    .dataframe thead th {\n",
              "        text-align: right;\n",
              "    }\n",
              "</style>\n",
              "<table border=\"1\" class=\"dataframe\">\n",
              "  <thead>\n",
              "    <tr style=\"text-align: right;\">\n",
              "      <th></th>\n",
              "      <th>text</th>\n",
              "      <th>label</th>\n",
              "    </tr>\n",
              "  </thead>\n",
              "  <tbody>\n",
              "    <tr>\n",
              "      <th>0</th>\n",
              "      <td>CHIEF COMPLAINT: \\n\\nPRESENT ILLNESS: This 60 ...</td>\n",
              "      <td>3</td>\n",
              "    </tr>\n",
              "    <tr>\n",
              "      <th>1</th>\n",
              "      <td>CHIEF COMPLAINT: Substernal Chest Pain\\n\\nPRES...</td>\n",
              "      <td>2</td>\n",
              "    </tr>\n",
              "    <tr>\n",
              "      <th>2</th>\n",
              "      <td>CHIEF COMPLAINT: chest pain\\n\\nPRESENT ILLNESS...</td>\n",
              "      <td>0</td>\n",
              "    </tr>\n",
              "    <tr>\n",
              "      <th>3</th>\n",
              "      <td>CHIEF COMPLAINT: Presented with respiratory di...</td>\n",
              "      <td>2</td>\n",
              "    </tr>\n",
              "    <tr>\n",
              "      <th>4</th>\n",
              "      <td>CHIEF COMPLAINT: \\n\\nPRESENT ILLNESS: The pati...</td>\n",
              "      <td>2</td>\n",
              "    </tr>\n",
              "  </tbody>\n",
              "</table>\n",
              "</div>\n",
              "      <button class=\"colab-df-convert\" onclick=\"convertToInteractive('df-a299d3d9-e3bf-4ac8-bf3b-d7a8615a242c')\"\n",
              "              title=\"Convert this dataframe to an interactive table.\"\n",
              "              style=\"display:none;\">\n",
              "        \n",
              "  <svg xmlns=\"http://www.w3.org/2000/svg\" height=\"24px\"viewBox=\"0 0 24 24\"\n",
              "       width=\"24px\">\n",
              "    <path d=\"M0 0h24v24H0V0z\" fill=\"none\"/>\n",
              "    <path d=\"M18.56 5.44l.94 2.06.94-2.06 2.06-.94-2.06-.94-.94-2.06-.94 2.06-2.06.94zm-11 1L8.5 8.5l.94-2.06 2.06-.94-2.06-.94L8.5 2.5l-.94 2.06-2.06.94zm10 10l.94 2.06.94-2.06 2.06-.94-2.06-.94-.94-2.06-.94 2.06-2.06.94z\"/><path d=\"M17.41 7.96l-1.37-1.37c-.4-.4-.92-.59-1.43-.59-.52 0-1.04.2-1.43.59L10.3 9.45l-7.72 7.72c-.78.78-.78 2.05 0 2.83L4 21.41c.39.39.9.59 1.41.59.51 0 1.02-.2 1.41-.59l7.78-7.78 2.81-2.81c.8-.78.8-2.07 0-2.86zM5.41 20L4 18.59l7.72-7.72 1.47 1.35L5.41 20z\"/>\n",
              "  </svg>\n",
              "      </button>\n",
              "      \n",
              "  <style>\n",
              "    .colab-df-container {\n",
              "      display:flex;\n",
              "      flex-wrap:wrap;\n",
              "      gap: 12px;\n",
              "    }\n",
              "\n",
              "    .colab-df-convert {\n",
              "      background-color: #E8F0FE;\n",
              "      border: none;\n",
              "      border-radius: 50%;\n",
              "      cursor: pointer;\n",
              "      display: none;\n",
              "      fill: #1967D2;\n",
              "      height: 32px;\n",
              "      padding: 0 0 0 0;\n",
              "      width: 32px;\n",
              "    }\n",
              "\n",
              "    .colab-df-convert:hover {\n",
              "      background-color: #E2EBFA;\n",
              "      box-shadow: 0px 1px 2px rgba(60, 64, 67, 0.3), 0px 1px 3px 1px rgba(60, 64, 67, 0.15);\n",
              "      fill: #174EA6;\n",
              "    }\n",
              "\n",
              "    [theme=dark] .colab-df-convert {\n",
              "      background-color: #3B4455;\n",
              "      fill: #D2E3FC;\n",
              "    }\n",
              "\n",
              "    [theme=dark] .colab-df-convert:hover {\n",
              "      background-color: #434B5C;\n",
              "      box-shadow: 0px 1px 3px 1px rgba(0, 0, 0, 0.15);\n",
              "      filter: drop-shadow(0px 1px 2px rgba(0, 0, 0, 0.3));\n",
              "      fill: #FFFFFF;\n",
              "    }\n",
              "  </style>\n",
              "\n",
              "      <script>\n",
              "        const buttonEl =\n",
              "          document.querySelector('#df-a299d3d9-e3bf-4ac8-bf3b-d7a8615a242c button.colab-df-convert');\n",
              "        buttonEl.style.display =\n",
              "          google.colab.kernel.accessAllowed ? 'block' : 'none';\n",
              "\n",
              "        async function convertToInteractive(key) {\n",
              "          const element = document.querySelector('#df-a299d3d9-e3bf-4ac8-bf3b-d7a8615a242c');\n",
              "          const dataTable =\n",
              "            await google.colab.kernel.invokeFunction('convertToInteractive',\n",
              "                                                     [key], {});\n",
              "          if (!dataTable) return;\n",
              "\n",
              "          const docLinkHtml = 'Like what you see? Visit the ' +\n",
              "            '<a target=\"_blank\" href=https://colab.research.google.com/notebooks/data_table.ipynb>data table notebook</a>'\n",
              "            + ' to learn more about interactive tables.';\n",
              "          element.innerHTML = '';\n",
              "          dataTable['output_type'] = 'display_data';\n",
              "          await google.colab.output.renderOutput(dataTable, element);\n",
              "          const docLink = document.createElement('div');\n",
              "          docLink.innerHTML = docLinkHtml;\n",
              "          element.appendChild(docLink);\n",
              "        }\n",
              "      </script>\n",
              "    </div>\n",
              "  </div>\n",
              "  "
            ],
            "text/plain": [
              "                                                text  label\n",
              "0  CHIEF COMPLAINT: \\n\\nPRESENT ILLNESS: This 60 ...      3\n",
              "1  CHIEF COMPLAINT: Substernal Chest Pain\\n\\nPRES...      2\n",
              "2  CHIEF COMPLAINT: chest pain\\n\\nPRESENT ILLNESS...      0\n",
              "3  CHIEF COMPLAINT: Presented with respiratory di...      2\n",
              "4  CHIEF COMPLAINT: \\n\\nPRESENT ILLNESS: The pati...      2"
            ]
          },
          "metadata": {},
          "execution_count": 537
        }
      ],
      "source": [
        "df.head()"
      ]
    },
    {
      "cell_type": "code",
      "execution_count": null,
      "metadata": {
        "colab": {
          "base_uri": "https://localhost:8080/",
          "height": 423
        },
        "id": "YTpmdjw6-kLW",
        "outputId": "e436217a-63d8-4ab8-e344-a539c0084244"
      },
      "outputs": [
        {
          "output_type": "execute_result",
          "data": {
            "text/html": [
              "\n",
              "  <div id=\"df-8267e8a4-8d3f-4d61-9efa-8dc064debee5\">\n",
              "    <div class=\"colab-df-container\">\n",
              "      <div>\n",
              "<style scoped>\n",
              "    .dataframe tbody tr th:only-of-type {\n",
              "        vertical-align: middle;\n",
              "    }\n",
              "\n",
              "    .dataframe tbody tr th {\n",
              "        vertical-align: top;\n",
              "    }\n",
              "\n",
              "    .dataframe thead th {\n",
              "        text-align: right;\n",
              "    }\n",
              "</style>\n",
              "<table border=\"1\" class=\"dataframe\">\n",
              "  <thead>\n",
              "    <tr style=\"text-align: right;\">\n",
              "      <th></th>\n",
              "      <th>text</th>\n",
              "      <th>label</th>\n",
              "    </tr>\n",
              "  </thead>\n",
              "  <tbody>\n",
              "    <tr>\n",
              "      <th>4165</th>\n",
              "      <td>CHIEF COMPLAINT: Shortness of breath and fatig...</td>\n",
              "      <td>2</td>\n",
              "    </tr>\n",
              "    <tr>\n",
              "      <th>7934</th>\n",
              "      <td>CHIEF COMPLAINT: Angina.\\n\\nPRESENT ILLNESS: T...</td>\n",
              "      <td>2</td>\n",
              "    </tr>\n",
              "    <tr>\n",
              "      <th>4303</th>\n",
              "      <td>CHIEF COMPLAINT: \\n\\nPRESENT ILLNESS: This pat...</td>\n",
              "      <td>1</td>\n",
              "    </tr>\n",
              "    <tr>\n",
              "      <th>10349</th>\n",
              "      <td>CHIEF COMPLAINT: chest pain\\n\\nPRESENT ILLNESS...</td>\n",
              "      <td>2</td>\n",
              "    </tr>\n",
              "    <tr>\n",
              "      <th>1903</th>\n",
              "      <td>CHIEF COMPLAINT: abdominal compartment syndrom...</td>\n",
              "      <td>1</td>\n",
              "    </tr>\n",
              "    <tr>\n",
              "      <th>...</th>\n",
              "      <td>...</td>\n",
              "      <td>...</td>\n",
              "    </tr>\n",
              "    <tr>\n",
              "      <th>7633</th>\n",
              "      <td>CHIEF COMPLAINT: \\n\\nPRESENT ILLNESS: Mr. [**K...</td>\n",
              "      <td>1</td>\n",
              "    </tr>\n",
              "    <tr>\n",
              "      <th>1947</th>\n",
              "      <td>CHIEF COMPLAINT: weakness\\n\\nPRESENT ILLNESS: ...</td>\n",
              "      <td>2</td>\n",
              "    </tr>\n",
              "    <tr>\n",
              "      <th>4267</th>\n",
              "      <td>CHIEF COMPLAINT: This is a transfer from [**Ho...</td>\n",
              "      <td>2</td>\n",
              "    </tr>\n",
              "    <tr>\n",
              "      <th>9980</th>\n",
              "      <td>CHIEF COMPLAINT: chest pain\\n\\nPRESENT ILLNESS...</td>\n",
              "      <td>2</td>\n",
              "    </tr>\n",
              "    <tr>\n",
              "      <th>5999</th>\n",
              "      <td>CHIEF COMPLAINT: Neutropenic fever\\n\\nPRESENT ...</td>\n",
              "      <td>1</td>\n",
              "    </tr>\n",
              "  </tbody>\n",
              "</table>\n",
              "<p>11537 rows × 2 columns</p>\n",
              "</div>\n",
              "      <button class=\"colab-df-convert\" onclick=\"convertToInteractive('df-8267e8a4-8d3f-4d61-9efa-8dc064debee5')\"\n",
              "              title=\"Convert this dataframe to an interactive table.\"\n",
              "              style=\"display:none;\">\n",
              "        \n",
              "  <svg xmlns=\"http://www.w3.org/2000/svg\" height=\"24px\"viewBox=\"0 0 24 24\"\n",
              "       width=\"24px\">\n",
              "    <path d=\"M0 0h24v24H0V0z\" fill=\"none\"/>\n",
              "    <path d=\"M18.56 5.44l.94 2.06.94-2.06 2.06-.94-2.06-.94-.94-2.06-.94 2.06-2.06.94zm-11 1L8.5 8.5l.94-2.06 2.06-.94-2.06-.94L8.5 2.5l-.94 2.06-2.06.94zm10 10l.94 2.06.94-2.06 2.06-.94-2.06-.94-.94-2.06-.94 2.06-2.06.94z\"/><path d=\"M17.41 7.96l-1.37-1.37c-.4-.4-.92-.59-1.43-.59-.52 0-1.04.2-1.43.59L10.3 9.45l-7.72 7.72c-.78.78-.78 2.05 0 2.83L4 21.41c.39.39.9.59 1.41.59.51 0 1.02-.2 1.41-.59l7.78-7.78 2.81-2.81c.8-.78.8-2.07 0-2.86zM5.41 20L4 18.59l7.72-7.72 1.47 1.35L5.41 20z\"/>\n",
              "  </svg>\n",
              "      </button>\n",
              "      \n",
              "  <style>\n",
              "    .colab-df-container {\n",
              "      display:flex;\n",
              "      flex-wrap:wrap;\n",
              "      gap: 12px;\n",
              "    }\n",
              "\n",
              "    .colab-df-convert {\n",
              "      background-color: #E8F0FE;\n",
              "      border: none;\n",
              "      border-radius: 50%;\n",
              "      cursor: pointer;\n",
              "      display: none;\n",
              "      fill: #1967D2;\n",
              "      height: 32px;\n",
              "      padding: 0 0 0 0;\n",
              "      width: 32px;\n",
              "    }\n",
              "\n",
              "    .colab-df-convert:hover {\n",
              "      background-color: #E2EBFA;\n",
              "      box-shadow: 0px 1px 2px rgba(60, 64, 67, 0.3), 0px 1px 3px 1px rgba(60, 64, 67, 0.15);\n",
              "      fill: #174EA6;\n",
              "    }\n",
              "\n",
              "    [theme=dark] .colab-df-convert {\n",
              "      background-color: #3B4455;\n",
              "      fill: #D2E3FC;\n",
              "    }\n",
              "\n",
              "    [theme=dark] .colab-df-convert:hover {\n",
              "      background-color: #434B5C;\n",
              "      box-shadow: 0px 1px 3px 1px rgba(0, 0, 0, 0.15);\n",
              "      filter: drop-shadow(0px 1px 2px rgba(0, 0, 0, 0.3));\n",
              "      fill: #FFFFFF;\n",
              "    }\n",
              "  </style>\n",
              "\n",
              "      <script>\n",
              "        const buttonEl =\n",
              "          document.querySelector('#df-8267e8a4-8d3f-4d61-9efa-8dc064debee5 button.colab-df-convert');\n",
              "        buttonEl.style.display =\n",
              "          google.colab.kernel.accessAllowed ? 'block' : 'none';\n",
              "\n",
              "        async function convertToInteractive(key) {\n",
              "          const element = document.querySelector('#df-8267e8a4-8d3f-4d61-9efa-8dc064debee5');\n",
              "          const dataTable =\n",
              "            await google.colab.kernel.invokeFunction('convertToInteractive',\n",
              "                                                     [key], {});\n",
              "          if (!dataTable) return;\n",
              "\n",
              "          const docLinkHtml = 'Like what you see? Visit the ' +\n",
              "            '<a target=\"_blank\" href=https://colab.research.google.com/notebooks/data_table.ipynb>data table notebook</a>'\n",
              "            + ' to learn more about interactive tables.';\n",
              "          element.innerHTML = '';\n",
              "          dataTable['output_type'] = 'display_data';\n",
              "          await google.colab.output.renderOutput(dataTable, element);\n",
              "          const docLink = document.createElement('div');\n",
              "          docLink.innerHTML = docLinkHtml;\n",
              "          element.appendChild(docLink);\n",
              "        }\n",
              "      </script>\n",
              "    </div>\n",
              "  </div>\n",
              "  "
            ],
            "text/plain": [
              "                                                    text  label\n",
              "4165   CHIEF COMPLAINT: Shortness of breath and fatig...      2\n",
              "7934   CHIEF COMPLAINT: Angina.\\n\\nPRESENT ILLNESS: T...      2\n",
              "4303   CHIEF COMPLAINT: \\n\\nPRESENT ILLNESS: This pat...      1\n",
              "10349  CHIEF COMPLAINT: chest pain\\n\\nPRESENT ILLNESS...      2\n",
              "1903   CHIEF COMPLAINT: abdominal compartment syndrom...      1\n",
              "...                                                  ...    ...\n",
              "7633   CHIEF COMPLAINT: \\n\\nPRESENT ILLNESS: Mr. [**K...      1\n",
              "1947   CHIEF COMPLAINT: weakness\\n\\nPRESENT ILLNESS: ...      2\n",
              "4267   CHIEF COMPLAINT: This is a transfer from [**Ho...      2\n",
              "9980   CHIEF COMPLAINT: chest pain\\n\\nPRESENT ILLNESS...      2\n",
              "5999   CHIEF COMPLAINT: Neutropenic fever\\n\\nPRESENT ...      1\n",
              "\n",
              "[11537 rows x 2 columns]"
            ]
          },
          "metadata": {},
          "execution_count": 538
        }
      ],
      "source": [
        "df.sample(frac = 1)"
      ]
    },
    {
      "cell_type": "code",
      "execution_count": null,
      "metadata": {
        "colab": {
          "base_uri": "https://localhost:8080/",
          "height": 279
        },
        "id": "_CKAprZaInlM",
        "outputId": "7357a5d9-2821-4e32-fa46-2a29e873c411"
      },
      "outputs": [
        {
          "output_type": "execute_result",
          "data": {
            "text/plain": [
              "<matplotlib.axes._subplots.AxesSubplot at 0x7f431f29d4d0>"
            ]
          },
          "metadata": {},
          "execution_count": 539
        },
        {
          "output_type": "display_data",
          "data": {
            "image/png": "[encoded data removed]",
            "text/plain": [
              "<Figure size 432x288 with 1 Axes>"
            ]
          },
          "metadata": {
            "needs_background": "light"
          }
        }
      ],
      "source": [
        "df.label.value_counts().plot(kind = \"bar\")"
      ]
    },
    {
      "cell_type": "markdown",
      "metadata": {
        "id": "OzzQOAAkRYMG"
      },
      "source": [
        "## 2. Data Cleaning"
      ]
    },
    {
      "cell_type": "code",
      "execution_count": null,
      "metadata": {
        "id": "tZY3cx-iSgjo"
      },
      "outputs": [],
      "source": [
        "import re\n",
        "stemmer = WordNetLemmatizer()"
      ]
    },
    {
      "cell_type": "code",
      "execution_count": null,
      "metadata": {
        "id": "msREt9VARE6k"
      },
      "outputs": [],
      "source": [
        "def clean_Text(text:str):\n",
        "    # Remove new line characters\n",
        "    text = text.replace(\"\\n\", ' ')\n",
        "    # Punctuation\n",
        "    text = re.sub(r'[^\\w\\s]', ' ', text)\n",
        "    # remove all single characters\n",
        "    text = re.sub(r'\\s+[a-zA-Z]\\s+', ' ', text)\n",
        "    # Remove single characters from the start\n",
        "    text = re.sub(r'\\^[a-zA-Z]\\s+', ' ', text) \n",
        "    # Substituting multiple spaces with single space\n",
        "    text = re.sub(r'\\s+', ' ', text, flags=re.I)\n",
        "    # Removing prefixed 'b'\n",
        "    text = re.sub(r'^b\\s+', '', text)\n",
        "    # Remove numerical values ??? really ????\n",
        "    text = ''.join(i for i in text if not i.isdigit())\n",
        "    #Removing Stopwords\n",
        "    text = ' '.join([i for i in text.split() if not i in stopwords_collections])\n",
        "    #Removing certain sized words\n",
        "    text = ' '.join([i for i in text.split() if len(i)>=2]) #>=2 to take care of units like cm, pb etc\n",
        "    # Contractions\n",
        "    text = contractions.fix(text)\n",
        "    # Converting to Lowercase\n",
        "    text = text.lower()\n",
        "    # Lemmatization\n",
        "    text = text.split()\n",
        "    text = [stemmer.lemmatize(word) for word in text]\n",
        "    text = ' '.join(text)\n",
        "    #Removing my_stop_words\n",
        "    text = ' '.join([i for i in text.split() if not i in stopwords_collections and i != \"year\" and i!= \"old\"])\n",
        "    #return document\n",
        "    return text\n",
        "   "
      ]
    },
    {
      "cell_type": "code",
      "source": [
        "import tqdm"
      ],
      "metadata": {
        "id": "nfBhcSLwo9dZ"
      },
      "execution_count": null,
      "outputs": []
    },
    {
      "cell_type": "code",
      "execution_count": null,
      "metadata": {
        "id": "fpoxZUhrU2L-"
      },
      "outputs": [],
      "source": [
        "df.text = df.text.apply(lambda x: clean_Text(x))"
      ]
    },
    {
      "cell_type": "code",
      "execution_count": null,
      "metadata": {
        "colab": {
          "base_uri": "https://localhost:8080/",
          "height": 140
        },
        "id": "wY5da_1-YE3e",
        "outputId": "c3dbc492-6b3f-4624-aeb9-593b063240bc"
      },
      "outputs": [
        {
          "output_type": "execute_result",
          "data": {
            "application/vnd.google.colaboratory.intrinsic+json": {
              "type": "string"
            },
            "text/plain": [
              "'chief complaint present illness white male known murmur since childhood status post inferior myocardial infarction anteroseptal myocardial infarction status post angioplasty time since increased dyspnea exertion echocardiogram revealed aortic stenosis mm gradient ejection fraction apical akinesis cardiac catheterization revealed ejection fraction mitral regurgitation moderate mac left anterior descending mid lesion diagonal lesion right coronary artery mid occlusion admitted aortic valve replacement coronary artery bypass graft medical history significant history skin cancer left shoulder history hypothyroidism history hypercholesterolemia history hypertension history coronary artery disease status post angioplasty status post inferior myocardial infarction anteroseptal myocardial infarction medication admission allergy known drug allergy physical exam family history significant coronary artery disease social history'"
            ]
          },
          "metadata": {},
          "execution_count": 544
        }
      ],
      "source": [
        "df.text[0]"
      ]
    },
    {
      "cell_type": "code",
      "execution_count": null,
      "metadata": {
        "colab": {
          "base_uri": "https://localhost:8080/",
          "height": 112
        },
        "id": "8n0z6Rfsje_K",
        "outputId": "6cd18bb7-8426-4073-df52-15d0cad71a7a"
      },
      "outputs": [
        {
          "output_type": "execute_result",
          "data": {
            "text/html": [
              "\n",
              "  <div id=\"df-5e1cbf06-b749-4c78-a9a9-6e267ee740b6\">\n",
              "    <div class=\"colab-df-container\">\n",
              "      <div>\n",
              "<style scoped>\n",
              "    .dataframe tbody tr th:only-of-type {\n",
              "        vertical-align: middle;\n",
              "    }\n",
              "\n",
              "    .dataframe tbody tr th {\n",
              "        vertical-align: top;\n",
              "    }\n",
              "\n",
              "    .dataframe thead th {\n",
              "        text-align: right;\n",
              "    }\n",
              "</style>\n",
              "<table border=\"1\" class=\"dataframe\">\n",
              "  <thead>\n",
              "    <tr style=\"text-align: right;\">\n",
              "      <th></th>\n",
              "      <th>text</th>\n",
              "      <th>label</th>\n",
              "    </tr>\n",
              "  </thead>\n",
              "  <tbody>\n",
              "    <tr>\n",
              "      <th>0</th>\n",
              "      <td>chief complaint present illness white male kno...</td>\n",
              "      <td>3</td>\n",
              "    </tr>\n",
              "    <tr>\n",
              "      <th>1</th>\n",
              "      <td>chief complaint substernal chest pain present ...</td>\n",
              "      <td>2</td>\n",
              "    </tr>\n",
              "  </tbody>\n",
              "</table>\n",
              "</div>\n",
              "      <button class=\"colab-df-convert\" onclick=\"convertToInteractive('df-5e1cbf06-b749-4c78-a9a9-6e267ee740b6')\"\n",
              "              title=\"Convert this dataframe to an interactive table.\"\n",
              "              style=\"display:none;\">\n",
              "        \n",
              "  <svg xmlns=\"http://www.w3.org/2000/svg\" height=\"24px\"viewBox=\"0 0 24 24\"\n",
              "       width=\"24px\">\n",
              "    <path d=\"M0 0h24v24H0V0z\" fill=\"none\"/>\n",
              "    <path d=\"M18.56 5.44l.94 2.06.94-2.06 2.06-.94-2.06-.94-.94-2.06-.94 2.06-2.06.94zm-11 1L8.5 8.5l.94-2.06 2.06-.94-2.06-.94L8.5 2.5l-.94 2.06-2.06.94zm10 10l.94 2.06.94-2.06 2.06-.94-2.06-.94-.94-2.06-.94 2.06-2.06.94z\"/><path d=\"M17.41 7.96l-1.37-1.37c-.4-.4-.92-.59-1.43-.59-.52 0-1.04.2-1.43.59L10.3 9.45l-7.72 7.72c-.78.78-.78 2.05 0 2.83L4 21.41c.39.39.9.59 1.41.59.51 0 1.02-.2 1.41-.59l7.78-7.78 2.81-2.81c.8-.78.8-2.07 0-2.86zM5.41 20L4 18.59l7.72-7.72 1.47 1.35L5.41 20z\"/>\n",
              "  </svg>\n",
              "      </button>\n",
              "      \n",
              "  <style>\n",
              "    .colab-df-container {\n",
              "      display:flex;\n",
              "      flex-wrap:wrap;\n",
              "      gap: 12px;\n",
              "    }\n",
              "\n",
              "    .colab-df-convert {\n",
              "      background-color: #E8F0FE;\n",
              "      border: none;\n",
              "      border-radius: 50%;\n",
              "      cursor: pointer;\n",
              "      display: none;\n",
              "      fill: #1967D2;\n",
              "      height: 32px;\n",
              "      padding: 0 0 0 0;\n",
              "      width: 32px;\n",
              "    }\n",
              "\n",
              "    .colab-df-convert:hover {\n",
              "      background-color: #E2EBFA;\n",
              "      box-shadow: 0px 1px 2px rgba(60, 64, 67, 0.3), 0px 1px 3px 1px rgba(60, 64, 67, 0.15);\n",
              "      fill: #174EA6;\n",
              "    }\n",
              "\n",
              "    [theme=dark] .colab-df-convert {\n",
              "      background-color: #3B4455;\n",
              "      fill: #D2E3FC;\n",
              "    }\n",
              "\n",
              "    [theme=dark] .colab-df-convert:hover {\n",
              "      background-color: #434B5C;\n",
              "      box-shadow: 0px 1px 3px 1px rgba(0, 0, 0, 0.15);\n",
              "      filter: drop-shadow(0px 1px 2px rgba(0, 0, 0, 0.3));\n",
              "      fill: #FFFFFF;\n",
              "    }\n",
              "  </style>\n",
              "\n",
              "      <script>\n",
              "        const buttonEl =\n",
              "          document.querySelector('#df-5e1cbf06-b749-4c78-a9a9-6e267ee740b6 button.colab-df-convert');\n",
              "        buttonEl.style.display =\n",
              "          google.colab.kernel.accessAllowed ? 'block' : 'none';\n",
              "\n",
              "        async function convertToInteractive(key) {\n",
              "          const element = document.querySelector('#df-5e1cbf06-b749-4c78-a9a9-6e267ee740b6');\n",
              "          const dataTable =\n",
              "            await google.colab.kernel.invokeFunction('convertToInteractive',\n",
              "                                                     [key], {});\n",
              "          if (!dataTable) return;\n",
              "\n",
              "          const docLinkHtml = 'Like what you see? Visit the ' +\n",
              "            '<a target=\"_blank\" href=https://colab.research.google.com/notebooks/data_table.ipynb>data table notebook</a>'\n",
              "            + ' to learn more about interactive tables.';\n",
              "          element.innerHTML = '';\n",
              "          dataTable['output_type'] = 'display_data';\n",
              "          await google.colab.output.renderOutput(dataTable, element);\n",
              "          const docLink = document.createElement('div');\n",
              "          docLink.innerHTML = docLinkHtml;\n",
              "          element.appendChild(docLink);\n",
              "        }\n",
              "      </script>\n",
              "    </div>\n",
              "  </div>\n",
              "  "
            ],
            "text/plain": [
              "                                                text  label\n",
              "0  chief complaint present illness white male kno...      3\n",
              "1  chief complaint substernal chest pain present ...      2"
            ]
          },
          "metadata": {},
          "execution_count": 545
        }
      ],
      "source": [
        "df.head(2)"
      ]
    },
    {
      "cell_type": "code",
      "execution_count": null,
      "metadata": {
        "id": "-vyKXsGAk1Xd"
      },
      "outputs": [],
      "source": [
        "# df.to_csv(\"cleaned_dataset_non_numerical_for_w2v.csv\", index = False)"
      ]
    },
    {
      "cell_type": "markdown",
      "metadata": {
        "id": "M8l5CBzNZZRi"
      },
      "source": [
        "## 3. Creating Custom Word Embeddings"
      ]
    },
    {
      "cell_type": "code",
      "execution_count": null,
      "metadata": {
        "id": "qFyU8cJFcm7d"
      },
      "outputs": [],
      "source": [
        "clinical_Text = list(df.text.apply(str.split).values)"
      ]
    },
    {
      "cell_type": "code",
      "execution_count": null,
      "metadata": {
        "colab": {
          "base_uri": "https://localhost:8080/"
        },
        "id": "k6sVydgTlXEb",
        "outputId": "5fa2e38b-5cd4-41d8-8578-eb50b4975f86"
      },
      "outputs": [
        {
          "output_type": "execute_result",
          "data": {
            "text/plain": [
              "11537"
            ]
          },
          "metadata": {},
          "execution_count": 548
        }
      ],
      "source": [
        "len(clinical_Text)"
      ]
    },
    {
      "cell_type": "code",
      "execution_count": null,
      "metadata": {
        "id": "q637iswMYlIr"
      },
      "outputs": [],
      "source": [
        "from gensim import models\n",
        "import time\n",
        "# from gensim.models.phrases import Phrases, Phraser\n",
        "import multiprocessing\n",
        "# phrases = Phrases(clinical_Text, min_count=30, progress_per=10000)"
      ]
    },
    {
      "cell_type": "code",
      "execution_count": null,
      "metadata": {
        "id": "OElTz7tQZ6ed"
      },
      "outputs": [],
      "source": [
        "# bigram = Phraser(phrases)"
      ]
    },
    {
      "cell_type": "code",
      "execution_count": null,
      "metadata": {
        "id": "SfI9MbvtaC9m"
      },
      "outputs": [],
      "source": [
        "# clinical_Text = bigram[clinical_Text]"
      ]
    },
    {
      "cell_type": "code",
      "execution_count": null,
      "metadata": {
        "id": "SN23-mgFaPqc"
      },
      "outputs": [],
      "source": [
        "cores = multiprocessing.cpu_count() # Count the number of cores in a computer"
      ]
    },
    {
      "cell_type": "markdown",
      "metadata": {
        "id": "xOTpcJhQvMXe"
      },
      "source": [
        "Selecting Epochs to train Gensim Word2Vec: https://datascience.stackexchange.com/questions/9819/number-of-epochs-in-gensim-word2vec-implementation\n",
        "\n",
        "Which one to choose Skip gram or CBOW: https://stackoverflow.com/questions/39224236/word2vec-cbow-skip-gram-performance-wrt-training-dataset-size#:~:text=Overall%2C%20the%20best%20practice%20is%20to%20try%20few%20experiments%20and%20see%20what%20works%20the%20best%20for%20you%2C%20as%20different%20applications%20have%20different%20requirements."
      ]
    },
    {
      "cell_type": "code",
      "source": [
        ""
      ],
      "metadata": {
        "id": "6Utlo0a4L3up"
      },
      "execution_count": null,
      "outputs": []
    },
    {
      "cell_type": "code",
      "execution_count": null,
      "metadata": {
        "colab": {
          "base_uri": "https://localhost:8080/"
        },
        "id": "uXhLCScQbP0J",
        "outputId": "d49ba372-725b-4e8f-e215-6a16ac628519"
      },
      "outputs": [
        {
          "output_type": "stream",
          "name": "stdout",
          "text": [
            "Time taken : 5.48 mins\n"
          ]
        }
      ],
      "source": [
        "start_time = time.time()\n",
        "model = models.Word2Vec(sentences=clinical_Text,\n",
        "                 window = 150, #The maximum distance between a target word and words around the target word. \n",
        "                 sg=1, # The training algorithm, either CBOW (0) or skip gram (1). ## initially used sg=1 # https://stackoverflow.com/questions/39224236/word2vec-cbow-skip-gram-performance-wrt-training-dataset-size\n",
        "                 size=100,  #The number of dimensions of the embedding, 300, 100, 50\n",
        "                 workers=8,#The number of threads to use while training.\n",
        "                 sample=6e-5,\n",
        "                 min_count=1) \n",
        "\n",
        "print(f'Time taken : {(time.time() - start_time) / 60:.2f} mins')"
      ]
    },
    {
      "cell_type": "code",
      "execution_count": null,
      "metadata": {
        "colab": {
          "base_uri": "https://localhost:8080/"
        },
        "id": "9k7LVRyTEi_h",
        "outputId": "03958ff6-5f83-4b85-df40-9b26fe2dde34"
      },
      "outputs": [
        {
          "output_type": "stream",
          "name": "stdout",
          "text": [
            "Vocabulary size: 26169\n"
          ]
        }
      ],
      "source": [
        "words = list(model.wv.vocab)\n",
        "print('Vocabulary size: %d' % len(words))"
      ]
    },
    {
      "cell_type": "markdown",
      "source": [
        "Vocabulary size: 26169"
      ],
      "metadata": {
        "id": "EGhKDPxB4GfZ"
      }
    },
    {
      "cell_type": "code",
      "execution_count": null,
      "metadata": {
        "colab": {
          "base_uri": "https://localhost:8080/"
        },
        "id": "4DkGtQuRd2-R",
        "outputId": "30f2adaa-203b-4713-8350-a38eca373eb4"
      },
      "outputs": [
        {
          "output_type": "execute_result",
          "data": {
            "text/plain": [
              "26169"
            ]
          },
          "metadata": {},
          "execution_count": 555
        }
      ],
      "source": [
        "len(model.wv.vocab.keys())"
      ]
    },
    {
      "cell_type": "code",
      "execution_count": null,
      "metadata": {
        "colab": {
          "base_uri": "https://localhost:8080/"
        },
        "id": "alkfTO1MegSY",
        "outputId": "8c8ea5f4-7515-4d6d-cb5e-ae49fd1c962e"
      },
      "outputs": [
        {
          "output_type": "execute_result",
          "data": {
            "text/plain": [
              "100"
            ]
          },
          "metadata": {},
          "execution_count": 556
        }
      ],
      "source": [
        "model.wv.vector_size"
      ]
    },
    {
      "cell_type": "code",
      "execution_count": null,
      "metadata": {
        "colab": {
          "base_uri": "https://localhost:8080/"
        },
        "id": "bxLsQSj3eip4",
        "outputId": "8e8ae343-4b39-4c8c-d968-e52fc0d40eaa"
      },
      "outputs": [
        {
          "output_type": "execute_result",
          "data": {
            "text/plain": [
              "array([-0.274735  ,  0.08529156,  0.06623887, -0.09882965,  0.2249899 ,\n",
              "       -0.22288945, -0.12112001, -0.20703386,  0.2533214 ,  0.00489836,\n",
              "        0.4074912 ,  0.27807114, -0.3370825 ,  0.03539487,  0.00291168,\n",
              "        0.1745567 , -0.1620663 ,  0.02849971,  0.24876998, -0.19635521,\n",
              "        0.23642896,  0.02705242,  0.23832667, -0.27842474, -0.0205157 ,\n",
              "        0.03685153, -0.03243324,  0.13095213, -0.01527753,  0.28073865,\n",
              "        0.3458754 , -0.08356009, -0.13318944,  0.18755627,  0.19802876,\n",
              "       -0.04977775, -0.0746841 , -0.17505257, -0.06272782,  0.04075254,\n",
              "       -0.00170807, -0.31347305, -0.15657668, -0.16293992, -0.08885756,\n",
              "        0.5200669 , -0.22648984,  0.2113484 ,  0.13450508, -0.07247527,\n",
              "       -0.07570169, -0.07483209,  0.1845369 ,  0.16101305, -0.03870905,\n",
              "       -0.27291083,  0.05675648, -0.33985275,  0.2519686 , -0.04921775,\n",
              "        0.18389945,  0.02028033, -0.04330709, -0.19888282, -0.04616175,\n",
              "        0.12756912,  0.06722473,  0.02413679, -0.11020845,  0.09517237,\n",
              "       -0.36326745, -0.51286703, -0.20859845, -0.07835222, -0.04189838,\n",
              "        0.16440383, -0.05332936, -0.04717012, -0.08308619, -0.34734005,\n",
              "       -0.11764877,  0.10916355,  0.19748883, -0.14957099, -0.11308377,\n",
              "        0.04579497,  0.06109434,  0.27372304, -0.09807242, -0.04922247,\n",
              "       -0.19383726,  0.13649124,  0.18029946,  0.13437286,  0.04750361,\n",
              "        0.1846503 ,  0.06067539,  0.00633971,  0.02828933, -0.07082262],\n",
              "      dtype=float32)"
            ]
          },
          "metadata": {},
          "execution_count": 557
        }
      ],
      "source": [
        "model.wv.get_vector('disease')"
      ]
    },
    {
      "cell_type": "code",
      "execution_count": null,
      "metadata": {
        "colab": {
          "base_uri": "https://localhost:8080/"
        },
        "id": "oMJ2dirwfQfw",
        "outputId": "70baf671-850b-4e54-b1b4-4d8a047d9fdd"
      },
      "outputs": [
        {
          "output_type": "execute_result",
          "data": {
            "text/plain": [
              "100"
            ]
          },
          "metadata": {},
          "execution_count": 558
        }
      ],
      "source": [
        "len(model.wv.get_vector('sepsis'))"
      ]
    },
    {
      "cell_type": "code",
      "execution_count": null,
      "metadata": {
        "id": "9abe2_0DcouB"
      },
      "outputs": [],
      "source": [
        "from sklearn.manifold import TSNE\n",
        "import matplotlib.pyplot as plt"
      ]
    },
    {
      "cell_type": "code",
      "execution_count": null,
      "metadata": {
        "colab": {
          "base_uri": "https://localhost:8080/"
        },
        "id": "pKmT1X1_eFZ_",
        "outputId": "ae78525c-3ebe-4c99-eac9-f35027c6ad75"
      },
      "outputs": [
        {
          "output_type": "execute_result",
          "data": {
            "text/plain": [
              "[('coronary', 0.8803753852844238),\n",
              " ('hypertension', 0.8752390146255493),\n",
              " ('history', 0.8693022727966309),\n",
              " ('vessel', 0.8682012557983398),\n",
              " ('artery', 0.8575736284255981),\n",
              " ('left', 0.8383479118347168),\n",
              " ('three', 0.8358386754989624),\n",
              " ('medical', 0.8309374451637268),\n",
              " ('revealed', 0.8222615122795105),\n",
              " ('hypercholesterolemia', 0.8196888566017151)]"
            ]
          },
          "metadata": {},
          "execution_count": 560
        }
      ],
      "source": [
        "model.similar_by_word('disease')"
      ]
    },
    {
      "cell_type": "code",
      "execution_count": null,
      "metadata": {
        "id": "e6NKTZc4pU3R"
      },
      "outputs": [],
      "source": [
        "def display_closestwords_tsnescatterplot(model, word):\n",
        "    \n",
        "    arr = np.empty((0,100), dtype='f')\n",
        "    word_labels = [word]\n",
        "\n",
        "    # get close words\n",
        "    close_words = model.similar_by_word(word)\n",
        "    \n",
        "    # add the vector for each of the closest words to the array\n",
        "    arr = np.append(arr, np.array([model[word]]), axis=0)\n",
        "    for wrd_score in close_words:\n",
        "        wrd_vector = model[wrd_score[0]]\n",
        "        word_labels.append(wrd_score[0])\n",
        "        arr = np.append(arr, np.array([wrd_vector]), axis=0)\n",
        "        \n",
        "    # find tsne coords for 2 dimensions\n",
        "    tsne = TSNE(n_components=2, random_state=0)\n",
        "    np.set_printoptions(suppress=True)\n",
        "    Y = tsne.fit_transform(arr)\n",
        "\n",
        "    x_coords = Y[:, 0]\n",
        "    y_coords = Y[:, 1]\n",
        "    # display scatter plot\n",
        "    plt.figure(figsize =(10,8))\n",
        "    plt.scatter(x_coords, y_coords)\n",
        "\n",
        "    for label, x, y in zip(word_labels, x_coords, y_coords):\n",
        "        plt.annotate(label, xy=(x, y), xytext=(0, 0), textcoords='offset points')\n",
        "    plt.xlim(x_coords.min()+0.00005, x_coords.max()+0.00005)\n",
        "    plt.ylim(y_coords.min()+0.00005, y_coords.max()+0.00005)\n",
        "    plt.show()\n"
      ]
    },
    {
      "cell_type": "code",
      "execution_count": null,
      "metadata": {
        "id": "VJT99JzBpsV8"
      },
      "outputs": [],
      "source": [
        "import warnings\n",
        "warnings.simplefilter(action='ignore', category=FutureWarning)"
      ]
    },
    {
      "cell_type": "code",
      "execution_count": null,
      "metadata": {
        "colab": {
          "base_uri": "https://localhost:8080/",
          "height": 491
        },
        "id": "ygw_Nv7ipXvY",
        "outputId": "e207698d-a31e-4ca9-b801-696278dbc8b3"
      },
      "outputs": [
        {
          "output_type": "display_data",
          "data": {
            "image/png": "[encoded data removed]",
            "text/plain": [
              "<Figure size 720x576 with 1 Axes>"
            ]
          },
          "metadata": {
            "needs_background": "light"
          }
        }
      ],
      "source": [
        "display_closestwords_tsnescatterplot(model, 'disease')"
      ]
    },
    {
      "cell_type": "code",
      "execution_count": null,
      "metadata": {
        "id": "neO7wKgho8ah"
      },
      "outputs": [],
      "source": [
        "from gensim.models import Word2Vec, KeyedVectors   \n",
        "model.wv.save_word2vec_format('w2v_model_100_non_bi.bin', binary=True)"
      ]
    },
    {
      "cell_type": "code",
      "execution_count": null,
      "metadata": {
        "id": "M7A0m_off_4u"
      },
      "outputs": [],
      "source": [
        "model.wv.save_word2vec_format('clinical_glove_100d_non_bi.txt')"
      ]
    },
    {
      "cell_type": "code",
      "execution_count": null,
      "metadata": {
        "id": "7LjnICJEMjD6"
      },
      "outputs": [],
      "source": [
        "from keras import initializers, regularizers, constraints, optimizers, layers, callbacks\n",
        "from keras.callbacks import EarlyStopping,ModelCheckpoint"
      ]
    },
    {
      "cell_type": "code",
      "execution_count": null,
      "metadata": {
        "id": "rlg3BF8MirIj"
      },
      "outputs": [],
      "source": [
        "from nltk.tokenize.toktok import ToktokTokenizer"
      ]
    },
    {
      "cell_type": "code",
      "execution_count": null,
      "metadata": {
        "id": "9kMS41O1i3J7"
      },
      "outputs": [],
      "source": [
        "tn = ToktokTokenizer()"
      ]
    },
    {
      "cell_type": "code",
      "execution_count": null,
      "metadata": {
        "id": "F1y8IU2vXw05"
      },
      "outputs": [],
      "source": [
        "train, test = train_test_split(df, test_size = 0.3)"
      ]
    },
    {
      "cell_type": "code",
      "execution_count": null,
      "metadata": {
        "id": "xP80Vc5Mjxds"
      },
      "outputs": [],
      "source": [
        "train_text = list(train.text)"
      ]
    },
    {
      "cell_type": "code",
      "execution_count": null,
      "metadata": {
        "id": "OLyNYn1SkXYO"
      },
      "outputs": [],
      "source": [
        "train_label = list(train.label)"
      ]
    },
    {
      "cell_type": "code",
      "execution_count": null,
      "metadata": {
        "id": "M88kOwPLkg3k"
      },
      "outputs": [],
      "source": [
        "test_text = list(test.text)\n",
        "test_label = list(test.label)"
      ]
    },
    {
      "cell_type": "code",
      "execution_count": null,
      "metadata": {
        "id": "hqSvfu_Xh1N8"
      },
      "outputs": [],
      "source": [
        "num_classes=4\n",
        "# tokenize train reviews & encode train labels\n",
        "tokenized_train = [tn.tokenize(text)\n",
        "                   for text in train_text]\n",
        "y_train = keras.utils.np_utils.to_categorical(train_label, num_classes)\n",
        "# tokenize test reviews & encode test labels\n",
        "tokenized_test = [tn.tokenize(text)\n",
        "                   for text in test_text]\n",
        "y_test = keras.utils.np_utils.to_categorical(test_label, num_classes)"
      ]
    },
    {
      "cell_type": "code",
      "execution_count": null,
      "metadata": {
        "id": "jOJdXIGPrtZL"
      },
      "outputs": [],
      "source": [
        "vocab = model.wv.vocab  "
      ]
    },
    {
      "cell_type": "code",
      "execution_count": null,
      "metadata": {
        "id": "CoPkSk6Xsg9F"
      },
      "outputs": [],
      "source": [
        "all_words = []\n",
        "for (x,y) in vocab.items():\n",
        "  all_words.append(x)"
      ]
    },
    {
      "cell_type": "code",
      "execution_count": null,
      "metadata": {
        "colab": {
          "base_uri": "https://localhost:8080/"
        },
        "id": "eIuDtrY2sPS8",
        "outputId": "bcdcf3e4-c393-448d-d7b3-8c2914cf6607"
      },
      "outputs": [
        {
          "output_type": "execute_result",
          "data": {
            "text/plain": [
              "26170"
            ]
          },
          "metadata": {},
          "execution_count": 390
        }
      ],
      "source": [
        "vocab_size = len(all_words) + 1\n",
        "vocab_size"
      ]
    },
    {
      "cell_type": "code",
      "execution_count": null,
      "metadata": {
        "colab": {
          "base_uri": "https://localhost:8080/"
        },
        "id": "raYqWGJf6FFD",
        "outputId": "7d6e8121-0d98-4d04-daaa-c141dde47c81"
      },
      "outputs": [
        {
          "output_type": "execute_result",
          "data": {
            "text/plain": [
              "text     0\n",
              "label    0\n",
              "dtype: int64"
            ]
          },
          "metadata": {},
          "execution_count": 391
        }
      ],
      "source": [
        "df.isna().sum()"
      ]
    },
    {
      "cell_type": "code",
      "execution_count": null,
      "metadata": {
        "colab": {
          "base_uri": "https://localhost:8080/"
        },
        "id": "bCFLKNvhlBXf",
        "outputId": "acddd558-33b7-4368-e261-0a272a11ebe8"
      },
      "outputs": [
        {
          "output_type": "execute_result",
          "data": {
            "text/plain": [
              "(8075, 3462, (8075, 2), (3462, 2))"
            ]
          },
          "metadata": {},
          "execution_count": 392
        }
      ],
      "source": [
        "len(tokenized_train), len(tokenized_test), train.shape, test.shape"
      ]
    },
    {
      "cell_type": "code",
      "execution_count": null,
      "metadata": {
        "id": "a762a-jugGPK"
      },
      "outputs": [],
      "source": [
        "def averaged_word2vec_vectorizer(corpus, model, num_features):\n",
        "    vocabulary = set(model.wv.index2word)\n",
        "    \n",
        "    def average_word_vectors(words, model, vocabulary, num_features):\n",
        "        feature_vector = np.zeros((num_features,), dtype=\"float64\")\n",
        "        nwords = 0.\n",
        "        \n",
        "        for word in words:\n",
        "            if word in vocabulary: \n",
        "                nwords = nwords + 1.\n",
        "                feature_vector = np.add(feature_vector, model[word])\n",
        "        if nwords:\n",
        "            feature_vector = np.divide(feature_vector, nwords)\n",
        "\n",
        "        return feature_vector\n",
        "\n",
        "    features = [average_word_vectors(tokenized_sentence, model, vocabulary, num_features)\n",
        "                    for tokenized_sentence in corpus]\n",
        "    return np.array(features)"
      ]
    },
    {
      "cell_type": "code",
      "execution_count": null,
      "metadata": {
        "id": "YRljGFSelZEK"
      },
      "outputs": [],
      "source": [
        "# generate averaged word vector features from word2vec model\n",
        "avg_wv_train_features = averaged_word2vec_vectorizer(corpus=tokenized_train, model=model,\n",
        "                                                     num_features=50)\n",
        "avg_wv_test_features = averaged_word2vec_vectorizer(corpus=tokenized_test, model=model,\n",
        "                                                    num_features=50)"
      ]
    },
    {
      "cell_type": "code",
      "execution_count": null,
      "metadata": {
        "id": "pUSgAh8Wl28H"
      },
      "outputs": [],
      "source": [
        "def construct_deepnn_architecture(num_input_features):\n",
        "    dnn_model = Sequential()\n",
        "    dnn_model.add(Dense(512, activation='relu', input_shape=(num_input_features,)))\n",
        "    dnn_model.add(Dropout(0.2))\n",
        "    dnn_model.add(Dense(512, activation='relu'))\n",
        "    dnn_model.add(Dropout(0.2))\n",
        "    dnn_model.add(Dense(512, activation='relu'))\n",
        "    dnn_model.add(Dropout(0.2))\n",
        "    dnn_model.add(Dense(4))\n",
        "    dnn_model.add(Activation('softmax'))\n",
        "    dnn_model.compile(loss='categorical_crossentropy', optimizer='adam',                 \n",
        "                      metrics=['accuracy'])\n",
        "    return dnn_model"
      ]
    },
    {
      "cell_type": "code",
      "execution_count": null,
      "metadata": {
        "id": "8u8fMwQrmAio"
      },
      "outputs": [],
      "source": [
        "w2v_dnn = construct_deepnn_architecture(num_input_features=50)"
      ]
    },
    {
      "cell_type": "code",
      "execution_count": null,
      "metadata": {
        "colab": {
          "base_uri": "https://localhost:8080/"
        },
        "id": "XhFSW8MCnGLm",
        "outputId": "2741efe6-9d2e-4e6f-fffa-f11b153bf73a"
      },
      "outputs": [
        {
          "output_type": "stream",
          "name": "stdout",
          "text": [
            "Epoch 1/15\n",
            "909/909 [==============================] - 5s 5ms/step - loss: 0.5129 - accuracy: 0.8108 - val_loss: 0.4491 - val_accuracy: 0.8168\n",
            "Epoch 2/15\n",
            "909/909 [==============================] - 4s 5ms/step - loss: 0.4730 - accuracy: 0.8225 - val_loss: 0.4385 - val_accuracy: 0.8366\n",
            "Epoch 3/15\n",
            "909/909 [==============================] - 4s 4ms/step - loss: 0.4629 - accuracy: 0.8320 - val_loss: 0.4459 - val_accuracy: 0.8354\n",
            "Epoch 4/15\n",
            "909/909 [==============================] - 4s 5ms/step - loss: 0.4556 - accuracy: 0.8283 - val_loss: 0.4401 - val_accuracy: 0.8329\n",
            "Epoch 5/15\n",
            "909/909 [==============================] - 4s 4ms/step - loss: 0.4446 - accuracy: 0.8331 - val_loss: 0.4094 - val_accuracy: 0.8354\n",
            "Epoch 6/15\n",
            "909/909 [==============================] - 4s 5ms/step - loss: 0.4438 - accuracy: 0.8316 - val_loss: 0.4272 - val_accuracy: 0.8304\n",
            "Epoch 7/15\n",
            "909/909 [==============================] - 4s 4ms/step - loss: 0.4363 - accuracy: 0.8384 - val_loss: 0.4078 - val_accuracy: 0.8379\n",
            "Epoch 8/15\n",
            "909/909 [==============================] - 4s 5ms/step - loss: 0.4365 - accuracy: 0.8360 - val_loss: 0.4526 - val_accuracy: 0.8218\n",
            "Epoch 9/15\n",
            "909/909 [==============================] - 4s 5ms/step - loss: 0.4289 - accuracy: 0.8390 - val_loss: 0.4231 - val_accuracy: 0.8403\n",
            "Epoch 10/15\n",
            "909/909 [==============================] - 4s 5ms/step - loss: 0.4307 - accuracy: 0.8390 - val_loss: 0.4217 - val_accuracy: 0.8428\n",
            "Epoch 11/15\n",
            "909/909 [==============================] - 4s 5ms/step - loss: 0.4259 - accuracy: 0.8462 - val_loss: 0.4114 - val_accuracy: 0.8453\n",
            "Epoch 12/15\n",
            "909/909 [==============================] - 4s 4ms/step - loss: 0.4274 - accuracy: 0.8379 - val_loss: 0.4068 - val_accuracy: 0.8391\n",
            "Epoch 13/15\n",
            "909/909 [==============================] - 4s 5ms/step - loss: 0.4221 - accuracy: 0.8423 - val_loss: 0.4020 - val_accuracy: 0.8280\n",
            "Epoch 14/15\n",
            "909/909 [==============================] - 4s 5ms/step - loss: 0.4152 - accuracy: 0.8413 - val_loss: 0.4347 - val_accuracy: 0.8342\n",
            "Epoch 15/15\n",
            "909/909 [==============================] - 4s 4ms/step - loss: 0.4165 - accuracy: 0.8406 - val_loss: 0.4172 - val_accuracy: 0.8379\n"
          ]
        }
      ],
      "source": [
        "batch_size = 8\n",
        "history = w2v_dnn.fit(avg_wv_train_features, y_train, epochs=15, batch_size=batch_size, \n",
        "            shuffle=True, validation_split=0.1, verbose=1)"
      ]
    },
    {
      "cell_type": "code",
      "execution_count": null,
      "metadata": {
        "colab": {
          "base_uri": "https://localhost:8080/",
          "height": 573
        },
        "id": "ZpzJlBajuga2",
        "outputId": "a34d7703-0019-467f-97ee-65e1987c0c7b"
      },
      "outputs": [
        {
          "output_type": "display_data",
          "data": {
            "image/png": "[encoded data removed]",
            "text/plain": [
              "<Figure size 432x288 with 1 Axes>"
            ]
          },
          "metadata": {
            "needs_background": "light"
          }
        },
        {
          "output_type": "display_data",
          "data": {
            "image/png": "[encoded data removed]",
            "text/plain": [
              "<Figure size 432x288 with 1 Axes>"
            ]
          },
          "metadata": {
            "needs_background": "light"
          }
        }
      ],
      "source": [
        "plt.plot(history.history['accuracy'])\n",
        "plt.plot(history.history['val_accuracy'])\n",
        "plt.title('model accuracy')\n",
        "plt.ylabel('accuracy')\n",
        "plt.xlabel('epoch')\n",
        "plt.legend(['train', 'val'], loc='upper left')\n",
        "plt.show()\n",
        "plt.plot(history.history['loss'])\n",
        "plt.plot(history.history['val_loss'])\n",
        "plt.title('model loss')\n",
        "plt.ylabel('loss')\n",
        "plt.xlabel('epoch')\n",
        "plt.legend(['train', 'val'], loc='upper left')\n",
        "plt.show()"
      ]
    },
    {
      "cell_type": "code",
      "execution_count": null,
      "metadata": {
        "id": "Af8BLlKEnPSD"
      },
      "outputs": [],
      "source": [
        "y_pred = w2v_dnn.predict(avg_wv_test_features)"
      ]
    },
    {
      "cell_type": "code",
      "execution_count": null,
      "metadata": {
        "colab": {
          "base_uri": "https://localhost:8080/"
        },
        "id": "Mo-E6dntomif",
        "outputId": "ad9e3378-6763-4d34-90ec-574e56a222eb"
      },
      "outputs": [
        {
          "output_type": "execute_result",
          "data": {
            "text/plain": [
              "(3462, 3462)"
            ]
          },
          "metadata": {},
          "execution_count": 400
        }
      ],
      "source": [
        "classes_x=np.argmax(y_pred,axis=1)\n",
        "len(classes_x), len(avg_wv_test_features)"
      ]
    },
    {
      "cell_type": "code",
      "execution_count": null,
      "metadata": {
        "colab": {
          "base_uri": "https://localhost:8080/",
          "height": 688
        },
        "id": "BOt9j--zpV20",
        "outputId": "ceaf525e-21f9-43eb-c2e2-ddc77ddc609c"
      },
      "outputs": [
        {
          "output_type": "stream",
          "name": "stdout",
          "text": [
            "\n",
            "accuracy: 85.0664 %\n",
            "\n",
            "\n",
            "              precision    recall  f1-score   support\n",
            "\n",
            "           0       0.80      0.82      0.81      1076\n",
            "           1       0.93      0.97      0.95       949\n",
            "           2       0.82      0.78      0.80       961\n",
            "           3       0.85      0.83      0.84       476\n",
            "\n",
            "    accuracy                           0.85      3462\n",
            "   macro avg       0.85      0.85      0.85      3462\n",
            "weighted avg       0.85      0.85      0.85      3462\n",
            "\n"
          ]
        },
        {
          "output_type": "display_data",
          "data": {
            "image/png": "[encoded data removed]",
            "text/plain": [
              "<Figure size 504x504 with 2 Axes>"
            ]
          },
          "metadata": {
            "needs_background": "light"
          }
        }
      ],
      "source": [
        "accuracy = accuracy_score(test_label, classes_x)\n",
        "print()\n",
        "print(\"accuracy:\",np.round(accuracy*100,4),\"%\")\n",
        "print()\n",
        "# plotting the confusion matrix\n",
        "cm = confusion_matrix(test_label, classes_x)\n",
        "plt.figure(figsize = (7,7))\n",
        "sns.heatmap(cm, annot=True)\n",
        "print()\n",
        "report = classification_report(test_label, classes_x, labels = [0,1,2,3])\n",
        "print((report))"
      ]
    },
    {
      "cell_type": "code",
      "execution_count": null,
      "metadata": {
        "colab": {
          "base_uri": "https://localhost:8080/",
          "height": 654
        },
        "id": "MYFA2VPmxag4",
        "outputId": "1b31641b-a701-4483-902d-9e2d3f7dae8b"
      },
      "outputs": [
        {
          "output_type": "stream",
          "name": "stdout",
          "text": [
            "accuracy: 82.1779 %\n",
            "\n",
            "              precision    recall  f1-score   support\n",
            "\n",
            "           0       0.70      0.85      0.77      1076\n",
            "           1       0.94      0.95      0.95       949\n",
            "           2       0.83      0.74      0.78       961\n",
            "           3       0.91      0.67      0.77       476\n",
            "\n",
            "    accuracy                           0.82      3462\n",
            "   macro avg       0.85      0.80      0.82      3462\n",
            "weighted avg       0.83      0.82      0.82      3462\n",
            "\n"
          ]
        },
        {
          "output_type": "display_data",
          "data": {
            "image/png": "[encoded data removed]",
            "text/plain": [
              "<Figure size 504x504 with 2 Axes>"
            ]
          },
          "metadata": {
            "needs_background": "light"
          }
        }
      ],
      "source": [
        "from sklearn.ensemble import RandomForestClassifier\n",
        "forest = RandomForestClassifier(n_estimators = 100, max_depth = 10)\n",
        "forest = forest.fit(avg_wv_train_features, y_train)\n",
        "result = forest.predict(avg_wv_test_features)\n",
        "classes_x=np.argmax(result,axis=1)\n",
        "len(classes_x), len(avg_wv_test_features)\n",
        "accuracy = accuracy_score(test_label, classes_x)\n",
        "print(\"accuracy:\",np.round(accuracy*100,4),\"%\")\n",
        "# plotting the confusion matrix\n",
        "cm = confusion_matrix(test_label, classes_x)\n",
        "plt.figure(figsize = (7,7))\n",
        "sns.heatmap(cm, annot=True)\n",
        "print()\n",
        "report = classification_report(test_label, classes_x, labels = [0,1,2,3])\n",
        "print((report))"
      ]
    },
    {
      "cell_type": "code",
      "execution_count": null,
      "metadata": {
        "colab": {
          "base_uri": "https://localhost:8080/",
          "height": 688
        },
        "id": "1-0k4X2xyMBn",
        "outputId": "2c52d832-ad6a-40b9-8b6d-7c3c418d088f"
      },
      "outputs": [
        {
          "output_type": "stream",
          "name": "stdout",
          "text": [
            "\n",
            "accuracy: 74.0324 %\n",
            "\n",
            "\n",
            "              precision    recall  f1-score   support\n",
            "\n",
            "           0       0.68      0.66      0.67      1076\n",
            "           1       0.90      0.91      0.90       949\n",
            "           2       0.68      0.70      0.69       961\n",
            "           3       0.69      0.66      0.67       476\n",
            "\n",
            "    accuracy                           0.74      3462\n",
            "   macro avg       0.74      0.73      0.73      3462\n",
            "weighted avg       0.74      0.74      0.74      3462\n",
            "\n"
          ]
        },
        {
          "output_type": "display_data",
          "data": {
            "image/png": "[encoded data removed]",
            "text/plain": [
              "<Figure size 504x504 with 2 Axes>"
            ]
          },
          "metadata": {
            "needs_background": "light"
          }
        }
      ],
      "source": [
        "from sklearn.tree import DecisionTreeClassifier\n",
        "modelDTC = DecisionTreeClassifier()\n",
        "modelLR = modelDTC.fit(avg_wv_train_features, y_train)\n",
        "result = modelLR.predict(avg_wv_test_features)\n",
        "classes_x=np.argmax(result,axis=1)\n",
        "accuracy = accuracy_score(test_label, classes_x)\n",
        "print()\n",
        "print(\"accuracy:\",np.round(accuracy*100,4),\"%\")\n",
        "print()\n",
        "# plotting the confusion matrix\n",
        "cm = confusion_matrix(test_label, classes_x)\n",
        "plt.figure(figsize = (7,7))\n",
        "sns.heatmap(cm, annot=True)\n",
        "print()\n",
        "report = classification_report(test_label, classes_x, labels = [0,1,2,3])\n",
        "print((report))"
      ]
    },
    {
      "cell_type": "code",
      "execution_count": null,
      "metadata": {
        "colab": {
          "base_uri": "https://localhost:8080/"
        },
        "id": "OMTsBXeO3zVz",
        "outputId": "9be688b3-a627-4862-9e2a-20bcd8e9c4ae"
      },
      "outputs": [
        {
          "output_type": "execute_result",
          "data": {
            "text/plain": [
              "array([[0., 1., 0., 0.],\n",
              "       [0., 0., 0., 1.],\n",
              "       [0., 0., 1., 0.],\n",
              "       ...,\n",
              "       [0., 0., 0., 1.],\n",
              "       [0., 0., 1., 0.],\n",
              "       [0., 0., 1., 0.]], dtype=float32)"
            ]
          },
          "metadata": {},
          "execution_count": 404
        }
      ],
      "source": [
        "y_train"
      ]
    },
    {
      "cell_type": "code",
      "execution_count": null,
      "metadata": {
        "colab": {
          "base_uri": "https://localhost:8080/",
          "height": 688
        },
        "id": "xxcJYyFG1TLe",
        "outputId": "5ff97869-1db7-4510-9fb6-d078a5c550ac"
      },
      "outputs": [
        {
          "output_type": "stream",
          "name": "stdout",
          "text": [
            "\n",
            "accuracy: 79.3472 %\n",
            "\n",
            "\n",
            "              precision    recall  f1-score   support\n",
            "\n",
            "           0       0.65      0.86      0.74      1076\n",
            "           1       0.95      0.92      0.93       949\n",
            "           2       0.81      0.66      0.72       961\n",
            "           3       0.92      0.68      0.78       476\n",
            "\n",
            "    accuracy                           0.79      3462\n",
            "   macro avg       0.83      0.78      0.79      3462\n",
            "weighted avg       0.81      0.79      0.79      3462\n",
            "\n"
          ]
        },
        {
          "output_type": "display_data",
          "data": {
            "image/png": "[encoded data removed]",
            "text/plain": [
              "<Figure size 504x504 with 2 Axes>"
            ]
          },
          "metadata": {
            "needs_background": "light"
          }
        }
      ],
      "source": [
        "from sklearn.neighbors import KNeighborsClassifier\n",
        "modelKNN = KNeighborsClassifier(n_neighbors=4)\n",
        "modelKNN = modelKNN.fit(avg_wv_train_features, y_train)\n",
        "result = modelKNN.predict(avg_wv_test_features)\n",
        "classes_x=np.argmax(result,axis=1)\n",
        "accuracy = accuracy_score(test_label, classes_x)\n",
        "print()\n",
        "print(\"accuracy:\",np.round(accuracy*100,4),\"%\")\n",
        "print()\n",
        "# plotting the confusion matrix\n",
        "cm = confusion_matrix(test_label, classes_x)\n",
        "plt.figure(figsize = (7,7))\n",
        "sns.heatmap(cm, annot=True)\n",
        "print()\n",
        "report = classification_report(test_label, classes_x, labels = [0,1,2,3])\n",
        "print((report))"
      ]
    },
    {
      "cell_type": "code",
      "source": [
        "from sklearn.cluster import KMeans"
      ],
      "metadata": {
        "id": "Ph2r_Vzx0SAG"
      },
      "execution_count": null,
      "outputs": []
    },
    {
      "cell_type": "code",
      "execution_count": null,
      "metadata": {
        "id": "Za84Wnqx4Wi5"
      },
      "outputs": [],
      "source": [
        "X = df.text\n",
        "Y = df.label\n",
        "X_avg = averaged_word2vec_vectorizer(X, model, 50)"
      ]
    },
    {
      "cell_type": "code",
      "source": [
        "kmeans = KMeans(n_clusters = 4).fit(X_avg)\n",
        "# kmeans_pred = kmeans.predict(avg_wv_test_features)\n",
        "pred = kmeans.labels_\n",
        "correct_labels = sum(Y == pred)\n",
        "print(\"Result: %d out of %d samples were correctly labeled.\" % (correct_labels, len(Y)))\n",
        "print('Accuracy score:', np.round((correct_labels/float(len(Y)))*100, 2),\" %\")"
      ],
      "metadata": {
        "colab": {
          "base_uri": "https://localhost:8080/"
        },
        "id": "A78LcVZVz4AM",
        "outputId": "b9a5f56d-75dc-4fc9-ad50-c930cef4e9e8"
      },
      "execution_count": null,
      "outputs": [
        {
          "output_type": "stream",
          "name": "stdout",
          "text": [
            "Result: 1786 out of 11537 samples were correctly labeled.\n",
            "Accuracy score: 15.48  %\n"
          ]
        }
      ]
    },
    {
      "cell_type": "code",
      "source": [
        "def build_numerical_dataset(features, df_kms:pd.DataFrame, isCategorical= False, num_classes = 4):\n",
        "  columns = np.arange(0,features)\n",
        "  df = df_kms.copy()\n",
        "  for x in range(0,df.shape[0]):\n",
        "    df.vectors[x] = df.vectors[x].tolist()[0]\n",
        "  print(\"Input dataframe shape:\", df.shape)\n",
        "  df_split = pd.DataFrame(df[\"vectors\"].to_list(), columns=columns)\n",
        "  df_split.iloc[:1, :]\n",
        "  df_split['label'] = df_kms.label\n",
        "  print(\"Output dataframe shape:\", df_split.shape)\n",
        "  if isCategorical == True:\n",
        "    df_split['label'] = keras.utils.np_utils.to_categorical(df_split['label'], num_classes)\n",
        "    return df_split\n",
        "  return df_split"
      ],
      "metadata": {
        "id": "a0Xakk5k0cBX"
      },
      "execution_count": null,
      "outputs": []
    },
    {
      "cell_type": "code",
      "source": [
        "def text2vec(text, model):\n",
        "    return np.mean([model[x] for x in text.split() if x in model.wv.vocab], axis=0, dtype=np.float64).reshape(1,-1)"
      ],
      "metadata": {
        "id": "LtaPat5n0fSR"
      },
      "execution_count": null,
      "outputs": []
    },
    {
      "cell_type": "code",
      "source": [
        "def build_experimental_dataset(df: pd.DataFrame, model, column_Name:str, features:int):\n",
        "  text = column_Name\n",
        "  df_experimental = df.copy()\n",
        "  df_experimental['vectors'] = df_experimental.text.apply(text2vec, model = model)\n",
        "  df = build_numerical_dataset(features, df_experimental, isCategorical= False, num_classes = 4)\n",
        "  return df"
      ],
      "metadata": {
        "id": "PPDiq6Kg0ga8"
      },
      "execution_count": null,
      "outputs": []
    },
    {
      "cell_type": "code",
      "source": [
        "df_kms =  build_experimental_dataset(df, model, \"text\", 50)"
      ],
      "metadata": {
        "colab": {
          "base_uri": "https://localhost:8080/"
        },
        "id": "KbN5YpN-0iGf",
        "outputId": "6395c58c-9742-4ba5-eee1-0ec08155d8cc"
      },
      "execution_count": null,
      "outputs": [
        {
          "output_type": "stream",
          "name": "stderr",
          "text": [
            "/usr/local/lib/python3.7/dist-packages/ipykernel_launcher.py:5: SettingWithCopyWarning: \n",
            "A value is trying to be set on a copy of a slice from a DataFrame\n",
            "\n",
            "See the caveats in the documentation: https://pandas.pydata.org/pandas-docs/stable/user_guide/indexing.html#returning-a-view-versus-a-copy\n",
            "  \"\"\"\n"
          ]
        },
        {
          "output_type": "stream",
          "name": "stdout",
          "text": [
            "Input dataframe shape: (11537, 3)\n",
            "Output dataframe shape: (11537, 51)\n"
          ]
        }
      ]
    },
    {
      "cell_type": "code",
      "source": [
        "df_kms.head()"
      ],
      "metadata": {
        "colab": {
          "base_uri": "https://localhost:8080/",
          "height": 299
        },
        "id": "DwDq-smP0kPX",
        "outputId": "9c7dc15f-a1f5-4b3f-b22a-c0adad17aee1"
      },
      "execution_count": null,
      "outputs": [
        {
          "output_type": "execute_result",
          "data": {
            "text/html": [
              "\n",
              "  <div id=\"df-5a639ee5-77c0-422c-9657-a4a63c34330b\">\n",
              "    <div class=\"colab-df-container\">\n",
              "      <div>\n",
              "<style scoped>\n",
              "    .dataframe tbody tr th:only-of-type {\n",
              "        vertical-align: middle;\n",
              "    }\n",
              "\n",
              "    .dataframe tbody tr th {\n",
              "        vertical-align: top;\n",
              "    }\n",
              "\n",
              "    .dataframe thead th {\n",
              "        text-align: right;\n",
              "    }\n",
              "</style>\n",
              "<table border=\"1\" class=\"dataframe\">\n",
              "  <thead>\n",
              "    <tr style=\"text-align: right;\">\n",
              "      <th></th>\n",
              "      <th>0</th>\n",
              "      <th>1</th>\n",
              "      <th>2</th>\n",
              "      <th>3</th>\n",
              "      <th>4</th>\n",
              "      <th>5</th>\n",
              "      <th>6</th>\n",
              "      <th>7</th>\n",
              "      <th>8</th>\n",
              "      <th>9</th>\n",
              "      <th>...</th>\n",
              "      <th>41</th>\n",
              "      <th>42</th>\n",
              "      <th>43</th>\n",
              "      <th>44</th>\n",
              "      <th>45</th>\n",
              "      <th>46</th>\n",
              "      <th>47</th>\n",
              "      <th>48</th>\n",
              "      <th>49</th>\n",
              "      <th>label</th>\n",
              "    </tr>\n",
              "  </thead>\n",
              "  <tbody>\n",
              "    <tr>\n",
              "      <th>0</th>\n",
              "      <td>0.956331</td>\n",
              "      <td>-1.242517</td>\n",
              "      <td>0.164691</td>\n",
              "      <td>0.229886</td>\n",
              "      <td>0.586345</td>\n",
              "      <td>1.055610</td>\n",
              "      <td>0.126580</td>\n",
              "      <td>-1.076944</td>\n",
              "      <td>1.255002</td>\n",
              "      <td>-0.550286</td>\n",
              "      <td>...</td>\n",
              "      <td>-0.165255</td>\n",
              "      <td>-2.527203</td>\n",
              "      <td>0.712223</td>\n",
              "      <td>-0.063162</td>\n",
              "      <td>1.080028</td>\n",
              "      <td>-1.188796</td>\n",
              "      <td>0.307747</td>\n",
              "      <td>-0.274595</td>\n",
              "      <td>-0.113595</td>\n",
              "      <td>3</td>\n",
              "    </tr>\n",
              "    <tr>\n",
              "      <th>1</th>\n",
              "      <td>-0.640006</td>\n",
              "      <td>0.925016</td>\n",
              "      <td>-0.020975</td>\n",
              "      <td>-0.558875</td>\n",
              "      <td>0.740552</td>\n",
              "      <td>-0.239525</td>\n",
              "      <td>-0.770637</td>\n",
              "      <td>-0.432827</td>\n",
              "      <td>0.526704</td>\n",
              "      <td>0.087798</td>\n",
              "      <td>...</td>\n",
              "      <td>-0.323298</td>\n",
              "      <td>-0.781846</td>\n",
              "      <td>-0.849738</td>\n",
              "      <td>1.124323</td>\n",
              "      <td>0.064199</td>\n",
              "      <td>-0.361936</td>\n",
              "      <td>-0.188822</td>\n",
              "      <td>0.489599</td>\n",
              "      <td>0.504159</td>\n",
              "      <td>2</td>\n",
              "    </tr>\n",
              "    <tr>\n",
              "      <th>2</th>\n",
              "      <td>-0.336944</td>\n",
              "      <td>1.168275</td>\n",
              "      <td>-0.032232</td>\n",
              "      <td>-1.194962</td>\n",
              "      <td>0.803278</td>\n",
              "      <td>0.886005</td>\n",
              "      <td>0.950325</td>\n",
              "      <td>0.002747</td>\n",
              "      <td>0.351473</td>\n",
              "      <td>-0.760623</td>\n",
              "      <td>...</td>\n",
              "      <td>-0.757919</td>\n",
              "      <td>-1.016364</td>\n",
              "      <td>-1.266740</td>\n",
              "      <td>1.650059</td>\n",
              "      <td>0.059014</td>\n",
              "      <td>-0.632728</td>\n",
              "      <td>-0.858026</td>\n",
              "      <td>0.270566</td>\n",
              "      <td>1.136930</td>\n",
              "      <td>0</td>\n",
              "    </tr>\n",
              "    <tr>\n",
              "      <th>3</th>\n",
              "      <td>0.023629</td>\n",
              "      <td>0.464237</td>\n",
              "      <td>-0.474074</td>\n",
              "      <td>-0.426486</td>\n",
              "      <td>0.021481</td>\n",
              "      <td>-0.284042</td>\n",
              "      <td>0.181543</td>\n",
              "      <td>-0.267346</td>\n",
              "      <td>0.238543</td>\n",
              "      <td>-0.166309</td>\n",
              "      <td>...</td>\n",
              "      <td>-0.113214</td>\n",
              "      <td>-0.681744</td>\n",
              "      <td>0.246721</td>\n",
              "      <td>0.617094</td>\n",
              "      <td>0.774392</td>\n",
              "      <td>-0.143180</td>\n",
              "      <td>0.018832</td>\n",
              "      <td>-0.100191</td>\n",
              "      <td>0.017536</td>\n",
              "      <td>2</td>\n",
              "    </tr>\n",
              "    <tr>\n",
              "      <th>4</th>\n",
              "      <td>0.414522</td>\n",
              "      <td>-0.364232</td>\n",
              "      <td>0.419396</td>\n",
              "      <td>-0.219412</td>\n",
              "      <td>1.572868</td>\n",
              "      <td>0.593370</td>\n",
              "      <td>-0.917239</td>\n",
              "      <td>-1.304608</td>\n",
              "      <td>0.530757</td>\n",
              "      <td>-0.498689</td>\n",
              "      <td>...</td>\n",
              "      <td>-0.222291</td>\n",
              "      <td>-2.206959</td>\n",
              "      <td>-0.638767</td>\n",
              "      <td>0.863116</td>\n",
              "      <td>0.251835</td>\n",
              "      <td>-1.226593</td>\n",
              "      <td>-0.090007</td>\n",
              "      <td>0.335422</td>\n",
              "      <td>-0.189652</td>\n",
              "      <td>2</td>\n",
              "    </tr>\n",
              "  </tbody>\n",
              "</table>\n",
              "<p>5 rows × 51 columns</p>\n",
              "</div>\n",
              "      <button class=\"colab-df-convert\" onclick=\"convertToInteractive('df-5a639ee5-77c0-422c-9657-a4a63c34330b')\"\n",
              "              title=\"Convert this dataframe to an interactive table.\"\n",
              "              style=\"display:none;\">\n",
              "        \n",
              "  <svg xmlns=\"http://www.w3.org/2000/svg\" height=\"24px\"viewBox=\"0 0 24 24\"\n",
              "       width=\"24px\">\n",
              "    <path d=\"M0 0h24v24H0V0z\" fill=\"none\"/>\n",
              "    <path d=\"M18.56 5.44l.94 2.06.94-2.06 2.06-.94-2.06-.94-.94-2.06-.94 2.06-2.06.94zm-11 1L8.5 8.5l.94-2.06 2.06-.94-2.06-.94L8.5 2.5l-.94 2.06-2.06.94zm10 10l.94 2.06.94-2.06 2.06-.94-2.06-.94-.94-2.06-.94 2.06-2.06.94z\"/><path d=\"M17.41 7.96l-1.37-1.37c-.4-.4-.92-.59-1.43-.59-.52 0-1.04.2-1.43.59L10.3 9.45l-7.72 7.72c-.78.78-.78 2.05 0 2.83L4 21.41c.39.39.9.59 1.41.59.51 0 1.02-.2 1.41-.59l7.78-7.78 2.81-2.81c.8-.78.8-2.07 0-2.86zM5.41 20L4 18.59l7.72-7.72 1.47 1.35L5.41 20z\"/>\n",
              "  </svg>\n",
              "      </button>\n",
              "      \n",
              "  <style>\n",
              "    .colab-df-container {\n",
              "      display:flex;\n",
              "      flex-wrap:wrap;\n",
              "      gap: 12px;\n",
              "    }\n",
              "\n",
              "    .colab-df-convert {\n",
              "      background-color: #E8F0FE;\n",
              "      border: none;\n",
              "      border-radius: 50%;\n",
              "      cursor: pointer;\n",
              "      display: none;\n",
              "      fill: #1967D2;\n",
              "      height: 32px;\n",
              "      padding: 0 0 0 0;\n",
              "      width: 32px;\n",
              "    }\n",
              "\n",
              "    .colab-df-convert:hover {\n",
              "      background-color: #E2EBFA;\n",
              "      box-shadow: 0px 1px 2px rgba(60, 64, 67, 0.3), 0px 1px 3px 1px rgba(60, 64, 67, 0.15);\n",
              "      fill: #174EA6;\n",
              "    }\n",
              "\n",
              "    [theme=dark] .colab-df-convert {\n",
              "      background-color: #3B4455;\n",
              "      fill: #D2E3FC;\n",
              "    }\n",
              "\n",
              "    [theme=dark] .colab-df-convert:hover {\n",
              "      background-color: #434B5C;\n",
              "      box-shadow: 0px 1px 3px 1px rgba(0, 0, 0, 0.15);\n",
              "      filter: drop-shadow(0px 1px 2px rgba(0, 0, 0, 0.3));\n",
              "      fill: #FFFFFF;\n",
              "    }\n",
              "  </style>\n",
              "\n",
              "      <script>\n",
              "        const buttonEl =\n",
              "          document.querySelector('#df-5a639ee5-77c0-422c-9657-a4a63c34330b button.colab-df-convert');\n",
              "        buttonEl.style.display =\n",
              "          google.colab.kernel.accessAllowed ? 'block' : 'none';\n",
              "\n",
              "        async function convertToInteractive(key) {\n",
              "          const element = document.querySelector('#df-5a639ee5-77c0-422c-9657-a4a63c34330b');\n",
              "          const dataTable =\n",
              "            await google.colab.kernel.invokeFunction('convertToInteractive',\n",
              "                                                     [key], {});\n",
              "          if (!dataTable) return;\n",
              "\n",
              "          const docLinkHtml = 'Like what you see? Visit the ' +\n",
              "            '<a target=\"_blank\" href=https://colab.research.google.com/notebooks/data_table.ipynb>data table notebook</a>'\n",
              "            + ' to learn more about interactive tables.';\n",
              "          element.innerHTML = '';\n",
              "          dataTable['output_type'] = 'display_data';\n",
              "          await google.colab.output.renderOutput(dataTable, element);\n",
              "          const docLink = document.createElement('div');\n",
              "          docLink.innerHTML = docLinkHtml;\n",
              "          element.appendChild(docLink);\n",
              "        }\n",
              "      </script>\n",
              "    </div>\n",
              "  </div>\n",
              "  "
            ],
            "text/plain": [
              "          0         1         2         3         4         5         6  \\\n",
              "0  0.956331 -1.242517  0.164691  0.229886  0.586345  1.055610  0.126580   \n",
              "1 -0.640006  0.925016 -0.020975 -0.558875  0.740552 -0.239525 -0.770637   \n",
              "2 -0.336944  1.168275 -0.032232 -1.194962  0.803278  0.886005  0.950325   \n",
              "3  0.023629  0.464237 -0.474074 -0.426486  0.021481 -0.284042  0.181543   \n",
              "4  0.414522 -0.364232  0.419396 -0.219412  1.572868  0.593370 -0.917239   \n",
              "\n",
              "          7         8         9  ...        41        42        43        44  \\\n",
              "0 -1.076944  1.255002 -0.550286  ... -0.165255 -2.527203  0.712223 -0.063162   \n",
              "1 -0.432827  0.526704  0.087798  ... -0.323298 -0.781846 -0.849738  1.124323   \n",
              "2  0.002747  0.351473 -0.760623  ... -0.757919 -1.016364 -1.266740  1.650059   \n",
              "3 -0.267346  0.238543 -0.166309  ... -0.113214 -0.681744  0.246721  0.617094   \n",
              "4 -1.304608  0.530757 -0.498689  ... -0.222291 -2.206959 -0.638767  0.863116   \n",
              "\n",
              "         45        46        47        48        49  label  \n",
              "0  1.080028 -1.188796  0.307747 -0.274595 -0.113595      3  \n",
              "1  0.064199 -0.361936 -0.188822  0.489599  0.504159      2  \n",
              "2  0.059014 -0.632728 -0.858026  0.270566  1.136930      0  \n",
              "3  0.774392 -0.143180  0.018832 -0.100191  0.017536      2  \n",
              "4  0.251835 -1.226593 -0.090007  0.335422 -0.189652      2  \n",
              "\n",
              "[5 rows x 51 columns]"
            ]
          },
          "metadata": {},
          "execution_count": 413
        }
      ]
    },
    {
      "cell_type": "code",
      "source": [
        "df_kms_copy = df_kms.copy()"
      ],
      "metadata": {
        "id": "qeqgY0Ut01EJ"
      },
      "execution_count": null,
      "outputs": []
    },
    {
      "cell_type": "code",
      "source": [
        "Y = df_kms_copy.label"
      ],
      "metadata": {
        "id": "Xo_mJpIC04vp"
      },
      "execution_count": null,
      "outputs": []
    },
    {
      "cell_type": "code",
      "source": [
        "df_kms_copy.drop(columns={'label'}, inplace = True)"
      ],
      "metadata": {
        "id": "rHukBQtw06-i"
      },
      "execution_count": null,
      "outputs": []
    },
    {
      "cell_type": "code",
      "source": [
        "X = df_kms_copy\n",
        "print(Y.shape, X.shape)"
      ],
      "metadata": {
        "colab": {
          "base_uri": "https://localhost:8080/"
        },
        "id": "8s6g6pDl08TR",
        "outputId": "86279bfe-f43f-42fd-a685-57c42f3731ec"
      },
      "execution_count": null,
      "outputs": [
        {
          "output_type": "stream",
          "name": "stdout",
          "text": [
            "(11537,) (11537, 50)\n"
          ]
        }
      ]
    },
    {
      "cell_type": "code",
      "source": [
        "kmeans = KMeans(n_clusters=4, random_state=0)\n",
        "kmeans.fit(X)"
      ],
      "metadata": {
        "colab": {
          "base_uri": "https://localhost:8080/"
        },
        "id": "n-Ji7yTi0-hq",
        "outputId": "3a6411cd-f77c-4cab-8167-9a5ea0d96ac2"
      },
      "execution_count": null,
      "outputs": [
        {
          "output_type": "execute_result",
          "data": {
            "text/plain": [
              "KMeans(n_clusters=4, random_state=0)"
            ]
          },
          "metadata": {},
          "execution_count": 418
        }
      ]
    },
    {
      "cell_type": "code",
      "source": [
        "pred = kmeans.labels_"
      ],
      "metadata": {
        "id": "cipNOytW0_4R"
      },
      "execution_count": null,
      "outputs": []
    },
    {
      "cell_type": "code",
      "source": [
        "Y = df_kms.label"
      ],
      "metadata": {
        "id": "cSHvHdj_1BYy"
      },
      "execution_count": null,
      "outputs": []
    },
    {
      "cell_type": "code",
      "source": [
        "correct_labels = sum(Y == pred)\n",
        "print(\"Result: %d out of %d samples were correctly labeled.\" % (correct_labels, len(Y)))\n",
        "print('Accuracy score:', np.round((correct_labels/float(len(Y)))*100, 2),\" %\")"
      ],
      "metadata": {
        "colab": {
          "base_uri": "https://localhost:8080/"
        },
        "id": "-jX8gmf_1Ckr",
        "outputId": "7947aae2-3415-47fd-c03e-b132ec6d9b68"
      },
      "execution_count": null,
      "outputs": [
        {
          "output_type": "stream",
          "name": "stdout",
          "text": [
            "Result: 6390 out of 11537 samples were correctly labeled.\n",
            "Accuracy score: 55.39  %\n"
          ]
        }
      ]
    },
    {
      "cell_type": "code",
      "source": [
        "from sklearn.manifold import TSNE\n",
        "from sklearn.metrics import accuracy_score\n",
        "from sklearn.metrics import f1_score\n",
        "from sklearn.metrics import precision_score\n",
        "from sklearn.metrics import recall_score\n",
        "from sklearn.metrics import balanced_accuracy_score\n",
        "from sklearn.metrics import accuracy_score\n",
        "from sklearn.metrics import f1_score\n",
        "from sklearn.metrics import roc_auc_score\n",
        "import matplotlib.pyplot as plt\n",
        "from keras.preprocessing.text import Tokenizer\n",
        "from sklearn.metrics import accuracy_score\n",
        "from tqdm.notebook import tqdm\n",
        "tqdm.pandas()\n",
        "import keras\n",
        "from keras.utils import np_utils\n",
        "from sklearn import metrics\n",
        "from sklearn.metrics import confusion_matrix\n",
        "from sklearn.metrics import classification_report"
      ],
      "metadata": {
        "id": "vcJbYPK81YdL"
      },
      "execution_count": null,
      "outputs": []
    },
    {
      "cell_type": "code",
      "source": [
        "def classification_metrics(test_labels, predicted_labels, model_name):\n",
        "  print(f\"--------------{model_name}----------------------\")\n",
        "  accuracy = accuracy_score(test_labels, predicted_labels)\n",
        "  bal_acc = balanced_accuracy_score(test_labels, predicted_labels)\n",
        "  recall =  recall_score(test_labels, predicted_labels, average='micro')\n",
        "  f1_weighted = f1_score(test_labels, predicted_labels, average='weighted')\n",
        "  f1_average = f1_score(test_labels, predicted_labels, average='micro')\n",
        "  precision = precision_score(test_labels, predicted_labels, average='micro')\n",
        "  print(\"accuracy:\",np.round(accuracy*100,4),\"%\")\n",
        "  print(\"balanced_ accuracy:\",np.round(bal_acc*100,4),\"%\")\n",
        "  print(\"recall:\",np.round(recall*100,4),\"%\")\n",
        "  print(\"f1_weighted:\",np.round(f1_weighted*100,4),\"%\")\n",
        "  print(\"f1_average:\",np.round(f1_average*100,4),\"%\")\n",
        "  print(\"precision:\",np.round(precision*100,4),\"%\")\n",
        "  print()\n",
        "  cm = confusion_matrix(test_labels, predicted_labels)\n",
        "  plt.figure(figsize = (7,7))\n",
        "  sns.heatmap(cm, annot=True)\n",
        "  print()\n",
        "  report = classification_report(test_labels, predicted_labels, labels = [0,1,2,3])\n",
        "  print((report))\n",
        "  print(\"----------------------------------------------------\")"
      ],
      "metadata": {
        "id": "WWuRrdES1SZr"
      },
      "execution_count": null,
      "outputs": []
    },
    {
      "cell_type": "code",
      "source": [
        "classification_metrics(Y, pred, \"K Means\")"
      ],
      "metadata": {
        "colab": {
          "base_uri": "https://localhost:8080/",
          "height": 792
        },
        "id": "RlktnWlx1E4s",
        "outputId": "dc8bd0f8-a2a8-4c64-bf3f-bdb7e94c1d57"
      },
      "execution_count": null,
      "outputs": [
        {
          "output_type": "stream",
          "name": "stdout",
          "text": [
            "--------------K Means----------------------\n",
            "accuracy: 55.387 %\n",
            "balanced_ accuracy: 51.5327 %\n",
            "recall: 55.387 %\n",
            "f1_weighted: 57.7336 %\n",
            "f1_average: 55.387 %\n",
            "precision: 55.387 %\n",
            "\n",
            "\n",
            "              precision    recall  f1-score   support\n",
            "\n",
            "           0       0.52      0.45      0.49      3502\n",
            "           1       0.91      0.91      0.91      3184\n",
            "           2       0.68      0.49      0.57      3175\n",
            "           3       0.11      0.21      0.15      1676\n",
            "\n",
            "    accuracy                           0.55     11537\n",
            "   macro avg       0.56      0.52      0.53     11537\n",
            "weighted avg       0.62      0.55      0.58     11537\n",
            "\n",
            "----------------------------------------------------\n"
          ]
        },
        {
          "output_type": "display_data",
          "data": {
            "image/png": "[encoded data removed]",
            "text/plain": [
              "<Figure size 504x504 with 2 Axes>"
            ]
          },
          "metadata": {
            "needs_background": "light"
          }
        }
      ]
    },
    {
      "cell_type": "code",
      "source": [
        ""
      ],
      "metadata": {
        "id": "Wtv5xs9i1GQn"
      },
      "execution_count": null,
      "outputs": []
    }
  ],
  "metadata": {
    "accelerator": "GPU",
    "colab": {
      "collapsed_sections": [
        "OxlVH2CNQorI",
        "OzzQOAAkRYMG",
        "M8l5CBzNZZRi"
      ],
      "name": "Generating Custom W2V.ipynb",
      "provenance": []
    },
    "kernelspec": {
      "display_name": "Python 3",
      "name": "python3"
    },
    "language_info": {
      "name": "python"
    }
  },
  "nbformat": 4,
  "nbformat_minor": 0
}