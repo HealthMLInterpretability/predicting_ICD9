{
 "cells": [
  {
   "cell_type": "code",
   "execution_count": 1,
   "metadata": {
    "ExecuteTime": {
     "end_time": "2022-01-14T01:14:00.449769Z",
     "start_time": "2022-01-14T01:13:59.601469Z"
    }
   },
   "outputs": [],
   "source": [
    "import pandas as pd\n",
    "import numpy as np\n",
    "\n",
    "from sklearn.model_selection import train_test_split\n",
    "from sklearn.ensemble import RandomForestClassifier\n",
    "from sklearn.cluster import KMeans\n",
    "from sklearn.metrics import balanced_accuracy_score, accuracy_score, f1_score, roc_auc_score, precision_score, recall_score\n",
    "from sklearn.metrics import precision_recall_fscore_support"
   ]
  },
  {
   "cell_type": "code",
   "execution_count": 36,
   "metadata": {
    "ExecuteTime": {
     "end_time": "2022-01-14T01:22:52.980627Z",
     "start_time": "2022-01-14T01:22:52.704329Z"
    }
   },
   "outputs": [],
   "source": [
    "LABEL_COL = 'ICD9'\n",
    "\n",
    "df_TFIDF40 = pd.read_csv('input_ICD9_TFIDF_40.csv')\n",
    "df_TFIDF40.rename(columns={'Label': LABEL_COL}, inplace=True)\n",
    "df_TM5 = pd.read_csv('input_ICD9_TM_5.csv')\n",
    "df_TM20 = pd.read_csv('input_ICD9_TM_20.csv')\n",
    "df_TM30 = pd.read_csv('input_ICD9_TM_30.csv')\n",
    "df_TM30.rename(columns={'top_icd': LABEL_COL}, inplace=True)\n",
    "\n",
    "df_list = [df_TFIDF40, df_TM5, df_TM20, df_TM30]\n",
    "files_list = ['TFIDF_40', 'TM_5', 'TM_20', 'TM_30']"
   ]
  },
  {
   "cell_type": "code",
   "execution_count": 68,
   "metadata": {
    "ExecuteTime": {
     "end_time": "2022-01-14T00:57:35.601048Z",
     "start_time": "2022-01-14T00:57:35.586068Z"
    }
   },
   "outputs": [
    {
     "name": "stdout",
     "output_type": "stream",
     "text": [
      "[True, True, True, True]\n",
      "[(11537, 41), (11537, 6), (11537, 21), (11537, 31)]\n",
      "[414    3502\n",
      "38     3184\n",
      "410    3175\n",
      "424    1676\n",
      "Name: ICD9, dtype: int64, 414    3502\n",
      "38     3184\n",
      "410    3175\n",
      "424    1676\n",
      "Name: ICD9, dtype: int64, 414    3502\n",
      "38     3184\n",
      "410    3175\n",
      "424    1676\n",
      "Name: ICD9, dtype: int64, 414    3502\n",
      "38     3184\n",
      "410    3175\n",
      "424    1676\n",
      "Name: ICD9, dtype: int64]\n"
     ]
    }
   ],
   "source": [
    "# Some data quality checks that Label is consistent\n",
    "print([True for df in df_list if LABEL_COL in df.columns])\n",
    "print([df.shape for df in df_list])\n",
    "print([df[LABEL_COL].value_counts() for df in df_list])"
   ]
  },
  {
   "cell_type": "code",
   "execution_count": 60,
   "metadata": {
    "ExecuteTime": {
     "end_time": "2022-01-14T01:35:55.910990Z",
     "start_time": "2022-01-14T01:35:55.896030Z"
    },
    "code_folding": []
   },
   "outputs": [],
   "source": [
    "def get_classification_metrics_rf(df: pd.DataFrame, label_col:str):\n",
    "    '''\n",
    "    Get metrics from Random Forest Model\n",
    "    Args:\n",
    "        df: pandas DataFrame\n",
    "        label_col: column name of the label\n",
    "    Returns: results dictionary with performance metrics, predicted results, and random forest model\n",
    "    '''\n",
    "    # Train test split\n",
    "    X = df.drop(columns=[label_col])\n",
    "    y = df[label_col]\n",
    "    X_train, X_test, y_train, y_test = train_test_split(X, y, test_size=0.3, random_state=42)\n",
    "    \n",
    "    # Random Forest Classifer\n",
    "    rf = RandomForestClassifier()\n",
    "    rf.fit(X_train, y_train)\n",
    "    rf_pred = rf.predict(X_test)\n",
    "    rf_prob = rf.predict_proba(X_test)\n",
    "    \n",
    "    rf_acc = accuracy_score(y_test, rf_pred)\n",
    "    rf_bal_acc = balanced_accuracy_score(y_test, rf_pred)\n",
    "    rf_precision = precision_score(y_test, rf_pred, average = 'macro')\n",
    "    rf_recall = recall_score(y_test, rf_pred, average = 'macro')\n",
    "    rf_f1_weighted = f1_score(y_test, rf_pred, average = 'weighted')\n",
    "    rf_f1_avg = f1_score(y_test, rf_pred, average = 'macro')\n",
    "    rf_auc = roc_auc_score(y_test, rf_prob, multi_class='ovr', average='macro')\n",
    "    \n",
    "    # Construct results\n",
    "    results = dict()\n",
    "    results['pred'], results['pred_prob'] = rf_pred, rf_prob\n",
    "    results['acc'] = rf_acc\n",
    "    results['bal_acc'] = rf_bal_acc\n",
    "    results['precision'] = rf_precision\n",
    "    results['recall'] = rf_recall\n",
    "    results['f1_weighted'] = rf_f1_weighted\n",
    "    results['f1_avg'] = rf_f1_avg\n",
    "    results['auc'] = rf_auc\n",
    "    results['model'] = rf\n",
    "        \n",
    "    return results"
   ]
  },
  {
   "cell_type": "code",
   "execution_count": 61,
   "metadata": {
    "ExecuteTime": {
     "end_time": "2022-01-14T01:36:04.441961Z",
     "start_time": "2022-01-14T01:35:56.525643Z"
    },
    "run_control": {
     "marked": true
    }
   },
   "outputs": [],
   "source": [
    "rf_results_list = [get_classification_metrics_rf(df, LABEL_COL) for df in df_list]"
   ]
  },
  {
   "cell_type": "code",
   "execution_count": 51,
   "metadata": {
    "ExecuteTime": {
     "end_time": "2022-01-14T01:30:52.515135Z",
     "start_time": "2022-01-14T01:30:52.488310Z"
    },
    "code_folding": []
   },
   "outputs": [],
   "source": [
    "def get_classification_metrics_km(filepath: str, label_col:str):\n",
    "    '''\n",
    "    Get metrics from K means model (iterating matching cluster labels with actual labels until best accuracy is returned)\n",
    "    Args:\n",
    "        filepath: filepath of csv \n",
    "        label_col: name of label column\n",
    "    Returns: results dictionary with performance metrics\n",
    "    '''\n",
    "    d = pd.read_csv(filepath)\n",
    "    d.rename(columns={'Label': label_col}, inplace=True)\n",
    "    d.rename(columns={'top_icd': label_col}, inplace=True)\n",
    "    ICD9_CODE_map = {\n",
    "        424:  0,\n",
    "        414:  1,\n",
    "        410: 2,\n",
    "        38: 3,\n",
    "    }\n",
    "\n",
    "    d[label_col] = d[label_col].map(ICD9_CODE_map)\n",
    "\n",
    "    X = d.drop(columns=[label_col])\n",
    "    kmeans = KMeans(n_clusters=4, random_state=0).fit(X)\n",
    "\n",
    "    pred = kmeans.labels_\n",
    "    true = d[label_col].values\n",
    "\n",
    "    acc=0\n",
    "    max = 0\n",
    "    predTemp=[-1,-1,-1,-1]\n",
    "    predNew=[-1]*len(pred)\n",
    "    predAssign = pd.Series(pred)\n",
    "    predFinal=[-1]*len(pred)\n",
    "\n",
    "\n",
    "    for i in range(4):\n",
    "        predTemp[i]=0\n",
    "        for j in range(4):\n",
    "            if j!=i:\n",
    "                predTemp[j]=1\n",
    "            else:\n",
    "                continue\n",
    "            for k in range(4):\n",
    "                if k!=i and k!=j:\n",
    "                    predTemp[k]=2\n",
    "                else:\n",
    "                    continue\n",
    "                for l in range(4):\n",
    "                    if l!=i and l!=k and l!=j:\n",
    "                        predTemp[l]=3\n",
    "                        pred_map = {\n",
    "                            0: predTemp[0],\n",
    "                            1: predTemp[1],\n",
    "                            2: predTemp[2],\n",
    "                            3: predTemp[3],\n",
    "                        }\n",
    "                        predNew = predAssign.map(pred_map)\n",
    "                        predNew = predNew.values\n",
    "                        acc = accuracy_score(true, predNew)\n",
    "                        if acc > max: \n",
    "                            max = acc\n",
    "                            predFinal = predNew  \n",
    "                    else:\n",
    "                        continue\n",
    "                        \n",
    "    km_acc = accuracy_score(true, predFinal)\n",
    "    km_bal_acc = balanced_accuracy_score(true, predFinal)\n",
    "    km_precision = precision_score(true, predFinal, average = 'macro')\n",
    "    km_recall = recall_score(true, predFinal, average = 'macro')\n",
    "    km_f1_weighted = f1_score(true, predFinal, average = 'weighted')\n",
    "    km_f1_avg = f1_score(true, predFinal, average = 'macro')\n",
    "    \n",
    "    # Construct results\n",
    "    results = dict()\n",
    "    results['acc'] = km_acc\n",
    "    results['bal_acc'] = km_bal_acc\n",
    "    results['precision'] = km_precision\n",
    "    results['recall'] = km_recall\n",
    "    results['f1_weighted'] = km_f1_weighted\n",
    "    results['f1_avg'] = km_f1_avg\n",
    "    \n",
    "    return results"
   ]
  },
  {
   "cell_type": "code",
   "execution_count": 62,
   "metadata": {
    "ExecuteTime": {
     "end_time": "2022-01-14T01:36:05.195393Z",
     "start_time": "2022-01-14T01:36:05.168071Z"
    }
   },
   "outputs": [
    {
     "data": {
      "text/plain": [
       "[{'pred': array([ 38, 410, 410, ...,  38, 414, 414], dtype=int64),\n",
       "  'pred_prob': array([[0.87, 0.04, 0.04, 0.05],\n",
       "         [0.  , 0.99, 0.01, 0.  ],\n",
       "         [0.02, 0.62, 0.3 , 0.06],\n",
       "         ...,\n",
       "         [0.95, 0.03, 0.02, 0.  ],\n",
       "         [0.04, 0.31, 0.63, 0.02],\n",
       "         [0.  , 0.05, 0.75, 0.2 ]]),\n",
       "  'acc': 0.8186019641825535,\n",
       "  'bal_acc': 0.8160590932587515,\n",
       "  'precision': 0.8179226215183386,\n",
       "  'recall': 0.8160590932587515,\n",
       "  'f1_weighted': 0.8177652863629854,\n",
       "  'f1_avg': 0.816752642365582,\n",
       "  'auc': 0.9486689048009529,\n",
       "  'model': RandomForestClassifier()},\n",
       " {'pred': array([ 38, 410, 414, ...,  38, 424, 414], dtype=int64),\n",
       "  'pred_prob': array([[0.99, 0.  , 0.  , 0.01],\n",
       "         [0.03, 0.72, 0.14, 0.11],\n",
       "         [0.  , 0.03, 0.8 , 0.17],\n",
       "         ...,\n",
       "         [1.  , 0.  , 0.  , 0.  ],\n",
       "         [0.03, 0.31, 0.17, 0.49],\n",
       "         [0.  , 0.  , 0.71, 0.29]]),\n",
       "  'acc': 0.658578856152513,\n",
       "  'bal_acc': 0.6198788159013208,\n",
       "  'precision': 0.6316144624403477,\n",
       "  'recall': 0.6198788159013208,\n",
       "  'f1_weighted': 0.652568906209302,\n",
       "  'f1_avg': 0.6221494077756653,\n",
       "  'auc': 0.8699127327414371,\n",
       "  'model': RandomForestClassifier()},\n",
       " {'pred': array([ 38, 414, 414, ...,  38, 414, 424], dtype=int64),\n",
       "  'pred_prob': array([[0.98, 0.02, 0.  , 0.  ],\n",
       "         [0.2 , 0.29, 0.31, 0.2 ],\n",
       "         [0.  , 0.12, 0.59, 0.29],\n",
       "         ...,\n",
       "         [0.97, 0.03, 0.  , 0.  ],\n",
       "         [0.02, 0.43, 0.45, 0.1 ],\n",
       "         [0.01, 0.06, 0.33, 0.6 ]]),\n",
       "  'acc': 0.7388792605430387,\n",
       "  'bal_acc': 0.7118902729753693,\n",
       "  'precision': 0.7399243953700758,\n",
       "  'recall': 0.7118902729753693,\n",
       "  'f1_weighted': 0.7351808585723185,\n",
       "  'f1_avg': 0.720172592066219,\n",
       "  'auc': 0.9127018256854864,\n",
       "  'model': RandomForestClassifier()},\n",
       " {'pred': array([ 38,  38, 410, ...,  38, 414, 414], dtype=int64),\n",
       "  'pred_prob': array([[0.89, 0.07, 0.04, 0.  ],\n",
       "         [0.29, 0.25, 0.29, 0.17],\n",
       "         [0.  , 0.46, 0.4 , 0.14],\n",
       "         ...,\n",
       "         [0.99, 0.01, 0.  , 0.  ],\n",
       "         [0.08, 0.38, 0.41, 0.13],\n",
       "         [0.  , 0.12, 0.64, 0.24]]),\n",
       "  'acc': 0.744945118428654,\n",
       "  'bal_acc': 0.7182325112248773,\n",
       "  'precision': 0.7496765877315281,\n",
       "  'recall': 0.7182325112248773,\n",
       "  'f1_weighted': 0.742140223092718,\n",
       "  'f1_avg': 0.7280367922864613,\n",
       "  'auc': 0.9135543726237162,\n",
       "  'model': RandomForestClassifier()}]"
      ]
     },
     "execution_count": 62,
     "metadata": {},
     "output_type": "execute_result"
    }
   ],
   "source": [
    "rf_results_list"
   ]
  },
  {
   "cell_type": "code",
   "execution_count": 55,
   "metadata": {
    "ExecuteTime": {
     "end_time": "2022-01-14T01:32:22.684338Z",
     "start_time": "2022-01-14T01:32:21.374304Z"
    }
   },
   "outputs": [],
   "source": [
    "filepath_list = ['input_ICD9_TFIDF_40.csv', 'input_ICD9_TM_5.csv', 'input_ICD9_TM_20.csv', 'input_ICD9_TM_30.csv']\n",
    "km_results_list = [get_classification_metrics_km(filepath, LABEL_COL) for filepath in filepath_list]"
   ]
  },
  {
   "cell_type": "code",
   "execution_count": 56,
   "metadata": {
    "ExecuteTime": {
     "end_time": "2022-01-14T01:32:34.450632Z",
     "start_time": "2022-01-14T01:32:34.442564Z"
    }
   },
   "outputs": [
    {
     "data": {
      "text/plain": [
       "[{'acc': 0.4916356071769091,\n",
       "  'bal_acc': 0.48429794283721417,\n",
       "  'precision': 0.4898849098984255,\n",
       "  'recall': 0.48429794283721417,\n",
       "  'f1_weighted': 0.4224975595925237,\n",
       "  'f1_avg': 0.4364853059229689},\n",
       " {'acc': 0.5852474646788594,\n",
       "  'bal_acc': 0.6165459730631955,\n",
       "  'precision': 0.578042216487441,\n",
       "  'recall': 0.6165459730631955,\n",
       "  'f1_weighted': 0.5699828394879753,\n",
       "  'f1_avg': 0.5677573355533626},\n",
       " {'acc': 0.5648782179076016,\n",
       "  'bal_acc': 0.5016036192428992,\n",
       "  'precision': 0.46870554822891114,\n",
       "  'recall': 0.5016036192428992,\n",
       "  'f1_weighted': 0.5365744005080538,\n",
       "  'f1_avg': 0.4784618002873484},\n",
       " {'acc': 0.5779665424287076,\n",
       "  'bal_acc': 0.5112029229540757,\n",
       "  'precision': 0.5031251654668742,\n",
       "  'recall': 0.5112029229540757,\n",
       "  'f1_weighted': 0.5571966550938213,\n",
       "  'f1_avg': 0.4971447497963916}]"
      ]
     },
     "execution_count": 56,
     "metadata": {},
     "output_type": "execute_result"
    }
   ],
   "source": [
    "km_results_list"
   ]
  },
  {
   "cell_type": "code",
   "execution_count": 75,
   "metadata": {
    "ExecuteTime": {
     "end_time": "2022-01-14T03:43:53.248967Z",
     "start_time": "2022-01-14T03:43:53.242861Z"
    }
   },
   "outputs": [],
   "source": [
    "# Feature importance\n",
    "def get_feature_importance(df: pd.DataFrame, model: RandomForestClassifier(), label_col: str):    \n",
    "    features = df.drop(columns=[label_col]).columns\n",
    "    feature_importances = pd.DataFrame({'features': features, 'importance': model.feature_importances_})\n",
    "    return feature_importances.sort_values(by='importance', ascending=False)"
   ]
  },
  {
   "cell_type": "code",
   "execution_count": 84,
   "metadata": {
    "ExecuteTime": {
     "end_time": "2022-01-14T03:55:30.412784Z",
     "start_time": "2022-01-14T03:55:30.373865Z"
    }
   },
   "outputs": [
    {
     "data": {
      "text/html": [
       "<div>\n",
       "<style scoped>\n",
       "    .dataframe tbody tr th:only-of-type {\n",
       "        vertical-align: middle;\n",
       "    }\n",
       "\n",
       "    .dataframe tbody tr th {\n",
       "        vertical-align: top;\n",
       "    }\n",
       "\n",
       "    .dataframe thead th {\n",
       "        text-align: right;\n",
       "    }\n",
       "</style>\n",
       "<table border=\"1\" class=\"dataframe\">\n",
       "  <thead>\n",
       "    <tr style=\"text-align: right;\">\n",
       "      <th></th>\n",
       "      <th>features</th>\n",
       "      <th>importance</th>\n",
       "    </tr>\n",
       "  </thead>\n",
       "  <tbody>\n",
       "    <tr>\n",
       "      <th>4</th>\n",
       "      <td>T4</td>\n",
       "      <td>0.129412</td>\n",
       "    </tr>\n",
       "    <tr>\n",
       "      <th>5</th>\n",
       "      <td>T5</td>\n",
       "      <td>0.103738</td>\n",
       "    </tr>\n",
       "    <tr>\n",
       "      <th>3</th>\n",
       "      <td>T3</td>\n",
       "      <td>0.080565</td>\n",
       "    </tr>\n",
       "    <tr>\n",
       "      <th>17</th>\n",
       "      <td>T17</td>\n",
       "      <td>0.075559</td>\n",
       "    </tr>\n",
       "    <tr>\n",
       "      <th>16</th>\n",
       "      <td>T16</td>\n",
       "      <td>0.073956</td>\n",
       "    </tr>\n",
       "    <tr>\n",
       "      <th>0</th>\n",
       "      <td>T0</td>\n",
       "      <td>0.065658</td>\n",
       "    </tr>\n",
       "    <tr>\n",
       "      <th>18</th>\n",
       "      <td>T18</td>\n",
       "      <td>0.058083</td>\n",
       "    </tr>\n",
       "    <tr>\n",
       "      <th>2</th>\n",
       "      <td>T2</td>\n",
       "      <td>0.057763</td>\n",
       "    </tr>\n",
       "    <tr>\n",
       "      <th>1</th>\n",
       "      <td>T1</td>\n",
       "      <td>0.043019</td>\n",
       "    </tr>\n",
       "    <tr>\n",
       "      <th>10</th>\n",
       "      <td>T10</td>\n",
       "      <td>0.041866</td>\n",
       "    </tr>\n",
       "    <tr>\n",
       "      <th>7</th>\n",
       "      <td>T7</td>\n",
       "      <td>0.041760</td>\n",
       "    </tr>\n",
       "    <tr>\n",
       "      <th>8</th>\n",
       "      <td>T8</td>\n",
       "      <td>0.038409</td>\n",
       "    </tr>\n",
       "    <tr>\n",
       "      <th>11</th>\n",
       "      <td>T11</td>\n",
       "      <td>0.036656</td>\n",
       "    </tr>\n",
       "    <tr>\n",
       "      <th>12</th>\n",
       "      <td>T12</td>\n",
       "      <td>0.033378</td>\n",
       "    </tr>\n",
       "    <tr>\n",
       "      <th>19</th>\n",
       "      <td>T19</td>\n",
       "      <td>0.030605</td>\n",
       "    </tr>\n",
       "    <tr>\n",
       "      <th>6</th>\n",
       "      <td>T6</td>\n",
       "      <td>0.030487</td>\n",
       "    </tr>\n",
       "    <tr>\n",
       "      <th>9</th>\n",
       "      <td>T9</td>\n",
       "      <td>0.024209</td>\n",
       "    </tr>\n",
       "    <tr>\n",
       "      <th>13</th>\n",
       "      <td>T13</td>\n",
       "      <td>0.017338</td>\n",
       "    </tr>\n",
       "    <tr>\n",
       "      <th>14</th>\n",
       "      <td>T14</td>\n",
       "      <td>0.008835</td>\n",
       "    </tr>\n",
       "    <tr>\n",
       "      <th>15</th>\n",
       "      <td>T15</td>\n",
       "      <td>0.008703</td>\n",
       "    </tr>\n",
       "  </tbody>\n",
       "</table>\n",
       "</div>"
      ],
      "text/plain": [
       "   features  importance\n",
       "4        T4    0.129412\n",
       "5        T5    0.103738\n",
       "3        T3    0.080565\n",
       "17      T17    0.075559\n",
       "16      T16    0.073956\n",
       "0        T0    0.065658\n",
       "18      T18    0.058083\n",
       "2        T2    0.057763\n",
       "1        T1    0.043019\n",
       "10      T10    0.041866\n",
       "7        T7    0.041760\n",
       "8        T8    0.038409\n",
       "11      T11    0.036656\n",
       "12      T12    0.033378\n",
       "19      T19    0.030605\n",
       "6        T6    0.030487\n",
       "9        T9    0.024209\n",
       "13      T13    0.017338\n",
       "14      T14    0.008835\n",
       "15      T15    0.008703"
      ]
     },
     "execution_count": 84,
     "metadata": {},
     "output_type": "execute_result"
    }
   ],
   "source": [
    "# Comparison of 20 Topic Model Feature Importance with RF\n",
    "get_feature_importance(df_TM20, rf_results_list[2]['model'], LABEL_COL)"
   ]
  },
  {
   "cell_type": "code",
   "execution_count": 83,
   "metadata": {
    "ExecuteTime": {
     "end_time": "2022-01-14T03:50:48.272639Z",
     "start_time": "2022-01-14T03:50:48.159840Z"
    }
   },
   "outputs": [
    {
     "data": {
      "text/plain": [
       "Text(0.5, 1.0, 'Label Distribution')"
      ]
     },
     "execution_count": 83,
     "metadata": {},
     "output_type": "execute_result"
    },
    {
     "data": {
      "image/png": "[encoded data removed]",
      "text/plain": [
       "<Figure size 432x288 with 1 Axes>"
      ]
     },
     "metadata": {
      "needs_background": "light"
     },
     "output_type": "display_data"
    }
   ],
   "source": [
    "# label_distribution\n",
    "df_TFIDF40_plot = df_TFIDF40[LABEL_COL].replace(38, \"038\")\n",
    "df_TFIDF40_plot.value_counts().sort_values().plot(kind = 'barh').set_title(\"Label Distribution\")"
   ]
  }
 ],
 "metadata": {
  "kernelspec": {
   "display_name": "Python 3",
   "language": "python",
   "name": "python3"
  },
  "language_info": {
   "codemirror_mode": {
    "name": "ipython",
    "version": 3
   },
   "file_extension": ".py",
   "mimetype": "text/x-python",
   "name": "python",
   "nbconvert_exporter": "python",
   "pygments_lexer": "ipython3",
   "version": "3.7.6"
  },
  "varInspector": {
   "cols": {
    "lenName": 16,
    "lenType": 16,
    "lenVar": 40
   },
   "kernels_config": {
    "python": {
     "delete_cmd_postfix": "",
     "delete_cmd_prefix": "del ",
     "library": "var_list.py",
     "varRefreshCmd": "print(var_dic_list())"
    },
    "r": {
     "delete_cmd_postfix": ") ",
     "delete_cmd_prefix": "rm(",
     "library": "var_list.r",
     "varRefreshCmd": "cat(var_dic_list()) "
    }
   },
   "types_to_exclude": [
    "module",
    "function",
    "builtin_function_or_method",
    "instance",
    "_Feature"
   ],
   "window_display": false
  }
 },
 "nbformat": 4,
 "nbformat_minor": 4
}
